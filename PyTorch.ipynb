{
  "nbformat": 4,
  "nbformat_minor": 0,
  "metadata": {
    "colab": {
      "provenance": []
    },
    "kernelspec": {
      "name": "python3",
      "display_name": "Python 3"
    },
    "language_info": {
      "name": "python"
    }
  },
  "cells": [
    {
      "cell_type": "markdown",
      "source": [
        "# **what is pytorch , why we use and who is usng it ?**"
      ],
      "metadata": {
        "id": "E--YwM0R0fvo"
      }
    },
    {
      "cell_type": "markdown",
      "source": [
        "1. PyTorch is an open source machine learning and deep learning framework ,<br>\n",
        "2. it allows you to manipulate and process data and write machine learning algorithms using Python code. <br>\n",
        "3. words largest companies ,meta(facebook), Tesla,Mincrosoft, Open Ai(chagpt) and lot more"
      ],
      "metadata": {
        "id": "ZDdMHZ8g0qCu"
      }
    },
    {
      "cell_type": "markdown",
      "source": [
        "# **1.Importing Pytorch**"
      ],
      "metadata": {
        "id": "b-uBd8lv2T5l"
      }
    },
    {
      "cell_type": "code",
      "source": [
        "import torch\n",
        "torch.__version__"
      ],
      "metadata": {
        "id": "57YCbsIAP5ip",
        "colab": {
          "base_uri": "https://localhost:8080/",
          "height": 36
        },
        "outputId": "e1326744-1037-439e-d22f-bbcf9169f058"
      },
      "execution_count": 68,
      "outputs": [
        {
          "output_type": "execute_result",
          "data": {
            "text/plain": [
              "'2.2.1+cu121'"
            ],
            "application/vnd.google.colaboratory.intrinsic+json": {
              "type": "string"
            }
          },
          "metadata": {},
          "execution_count": 68
        }
      ]
    },
    {
      "cell_type": "markdown",
      "source": [
        "if you want to run pytorch loclly then , you can visit here\n",
        "https://pytorch.org/get-started/locally/"
      ],
      "metadata": {
        "id": "4M7WY75w6jhy"
      }
    },
    {
      "cell_type": "markdown",
      "source": [
        "# **Introduction to Tensors**"
      ],
      "metadata": {
        "id": "2Gw17DB87H9g"
      }
    },
    {
      "cell_type": "markdown",
      "source": [
        "Tensor is everything"
      ],
      "metadata": {
        "id": "C_YoOswc8j6B"
      }
    },
    {
      "cell_type": "markdown",
      "source": [
        "1. Tensors are the basic building block of all of machine learning and deep learning.<br>\n",
        "2. Tensors can represent almost any kind of data (images, words, tables of numbers)."
      ],
      "metadata": {
        "id": "GU1hTGOc7X8R"
      }
    },
    {
      "cell_type": "markdown",
      "source": [
        "# **2. Creating Tensors**"
      ],
      "metadata": {
        "id": "HpeVtWdC7iSQ"
      }
    },
    {
      "cell_type": "markdown",
      "source": [
        "you can learn more about tensors here :https://pytorch.org/docs/stable/tensors.html"
      ],
      "metadata": {
        "id": "HYWHSHzm7xew"
      }
    },
    {
      "cell_type": "markdown",
      "source": [
        "**2.1 Scalar**\n",
        "* A scalar is a single number and in tensor ,its a zero dimension tensor."
      ],
      "metadata": {
        "id": "idIE7VO17-SP"
      }
    },
    {
      "cell_type": "code",
      "source": [
        "scalar=torch.tensor(8)\n",
        "scalar"
      ],
      "metadata": {
        "colab": {
          "base_uri": "https://localhost:8080/"
        },
        "id": "85HHjK2D2zFt",
        "outputId": "60fce585-b050-4096-f43b-0d124194ea03"
      },
      "execution_count": 69,
      "outputs": [
        {
          "output_type": "execute_result",
          "data": {
            "text/plain": [
              "tensor(8)"
            ]
          },
          "metadata": {},
          "execution_count": 69
        }
      ]
    },
    {
      "cell_type": "markdown",
      "source": [
        "that means although scalr is a single nuber , its of type **Torch.tensor**"
      ],
      "metadata": {
        "id": "WpW58S528gb5"
      }
    },
    {
      "cell_type": "markdown",
      "source": [
        "* **To check dimension of tensor**"
      ],
      "metadata": {
        "id": "NWiCy2BA80Ho"
      }
    },
    {
      "cell_type": "code",
      "source": [
        "scalar.ndim"
      ],
      "metadata": {
        "colab": {
          "base_uri": "https://localhost:8080/"
        },
        "id": "ZfqBkXcv8Xrg",
        "outputId": "0e7f6c79-caa4-4530-ac13-37bfba727687"
      },
      "execution_count": 70,
      "outputs": [
        {
          "output_type": "execute_result",
          "data": {
            "text/plain": [
              "0"
            ]
          },
          "metadata": {},
          "execution_count": 70
        }
      ]
    },
    {
      "cell_type": "markdown",
      "source": [
        "**To Get THE number(item) from tensor**"
      ],
      "metadata": {
        "id": "LMczd78F9AnH"
      }
    },
    {
      "cell_type": "code",
      "source": [
        "scalar.item() # it only works with one-element"
      ],
      "metadata": {
        "colab": {
          "base_uri": "https://localhost:8080/"
        },
        "id": "T9B3mV6487_g",
        "outputId": "fd646e0a-fef2-4a85-ab79-985c994555e1"
      },
      "execution_count": 71,
      "outputs": [
        {
          "output_type": "execute_result",
          "data": {
            "text/plain": [
              "8"
            ]
          },
          "metadata": {},
          "execution_count": 71
        }
      ]
    },
    {
      "cell_type": "markdown",
      "source": [
        "**2.2  Vector**"
      ],
      "metadata": {
        "id": "Hsq1JBHJ9Y-4"
      }
    },
    {
      "cell_type": "markdown",
      "source": [
        "* **a vector is a single dimension tensor but can contain many numbers**"
      ],
      "metadata": {
        "id": "0cvRyWmf9dhf"
      }
    },
    {
      "cell_type": "code",
      "source": [
        "vector=torch.tensor([8,8])\n",
        "vector"
      ],
      "metadata": {
        "colab": {
          "base_uri": "https://localhost:8080/"
        },
        "id": "pUo9Z3vm9Ml3",
        "outputId": "7394d2ce-e122-40e1-f20d-19bf25a4b48e"
      },
      "execution_count": 72,
      "outputs": [
        {
          "output_type": "execute_result",
          "data": {
            "text/plain": [
              "tensor([8, 8])"
            ]
          },
          "metadata": {},
          "execution_count": 72
        }
      ]
    },
    {
      "cell_type": "markdown",
      "source": [
        "you can tell the **number of dimensions**  a tensor in pytorch has by the number of **Square brackets** on the **outside ([)** and you can only need to **count one side**"
      ],
      "metadata": {
        "id": "YTvIfai8-EuG"
      }
    },
    {
      "cell_type": "code",
      "source": [
        "vector.ndim"
      ],
      "metadata": {
        "colab": {
          "base_uri": "https://localhost:8080/"
        },
        "id": "WF5Ww3Am9zPl",
        "outputId": "92d4e18e-1f09-46b1-d2be-fec07eb7ad06"
      },
      "execution_count": 73,
      "outputs": [
        {
          "output_type": "execute_result",
          "data": {
            "text/plain": [
              "1"
            ]
          },
          "metadata": {},
          "execution_count": 73
        }
      ]
    },
    {
      "cell_type": "markdown",
      "source": [
        "**To check the shape of the vector**"
      ],
      "metadata": {
        "id": "yWkOch_v-pGe"
      }
    },
    {
      "cell_type": "markdown",
      "source": [
        "\n",
        " *  **the shape attribute tells you how the elements inside them are arranged**"
      ],
      "metadata": {
        "id": "4PRjFz2N-zk2"
      }
    },
    {
      "cell_type": "code",
      "source": [
        "vector.shape"
      ],
      "metadata": {
        "colab": {
          "base_uri": "https://localhost:8080/"
        },
        "id": "wrwOqB0894Ot",
        "outputId": "448d89a8-9288-470e-8c10-2e271a6a650b"
      },
      "execution_count": 74,
      "outputs": [
        {
          "output_type": "execute_result",
          "data": {
            "text/plain": [
              "torch.Size([2])"
            ]
          },
          "metadata": {},
          "execution_count": 74
        }
      ]
    },
    {
      "cell_type": "markdown",
      "source": [
        "**2.3 Matrix**"
      ],
      "metadata": {
        "id": "H2UPG0Uq_VY9"
      }
    },
    {
      "cell_type": "markdown",
      "source": [
        "Two or more vectors"
      ],
      "metadata": {
        "id": "FBkgyU1f_iGl"
      }
    },
    {
      "cell_type": "code",
      "source": [
        "matrix=torch.tensor([[8,9],[10,11]])\n",
        "matrix"
      ],
      "metadata": {
        "colab": {
          "base_uri": "https://localhost:8080/"
        },
        "id": "u2I_Rga7-yS-",
        "outputId": "e11c5332-cf4d-4c5e-874f-bad920b9f506"
      },
      "execution_count": 75,
      "outputs": [
        {
          "output_type": "execute_result",
          "data": {
            "text/plain": [
              "tensor([[ 8,  9],\n",
              "        [10, 11]])"
            ]
          },
          "metadata": {},
          "execution_count": 75
        }
      ]
    },
    {
      "cell_type": "code",
      "source": [
        "matrix.ndim"
      ],
      "metadata": {
        "colab": {
          "base_uri": "https://localhost:8080/"
        },
        "id": "N6AQVeIu_uDU",
        "outputId": "cc19e7f1-b65f-4d01-9446-9e17dc298ed7"
      },
      "execution_count": 76,
      "outputs": [
        {
          "output_type": "execute_result",
          "data": {
            "text/plain": [
              "2"
            ]
          },
          "metadata": {},
          "execution_count": 76
        }
      ]
    },
    {
      "cell_type": "code",
      "source": [
        "matrix.shape"
      ],
      "metadata": {
        "colab": {
          "base_uri": "https://localhost:8080/"
        },
        "id": "v6qfBk60_1q8",
        "outputId": "0200641c-8357-41aa-a9d4-93e853fbb2eb"
      },
      "execution_count": 77,
      "outputs": [
        {
          "output_type": "execute_result",
          "data": {
            "text/plain": [
              "torch.Size([2, 2])"
            ]
          },
          "metadata": {},
          "execution_count": 77
        }
      ]
    },
    {
      "cell_type": "markdown",
      "source": [
        "two elements deep(hight,rows) and two elements wide(columns)"
      ],
      "metadata": {
        "id": "onl4D2f8Ack9"
      }
    },
    {
      "cell_type": "markdown",
      "source": [
        "**Tensor**"
      ],
      "metadata": {
        "id": "2jVK69RBAqPN"
      }
    },
    {
      "cell_type": "markdown",
      "source": [
        "tensors can represent almost anything"
      ],
      "metadata": {
        "id": "LY6a8UoAA84l"
      }
    },
    {
      "cell_type": "code",
      "source": [
        "tensor=torch.tensor([[[1,2,3,4],\n",
        "                      [4,5,6,5],\n",
        "                      [7,8,9,10]]])\n",
        "tensor"
      ],
      "metadata": {
        "colab": {
          "base_uri": "https://localhost:8080/"
        },
        "id": "GW8AAnZxAKMk",
        "outputId": "d858af6a-e506-411f-d7cb-1f358ed60b4b"
      },
      "execution_count": 78,
      "outputs": [
        {
          "output_type": "execute_result",
          "data": {
            "text/plain": [
              "tensor([[[ 1,  2,  3,  4],\n",
              "         [ 4,  5,  6,  5],\n",
              "         [ 7,  8,  9, 10]]])"
            ]
          },
          "metadata": {},
          "execution_count": 78
        }
      ]
    },
    {
      "cell_type": "code",
      "source": [
        "tensor.ndim"
      ],
      "metadata": {
        "colab": {
          "base_uri": "https://localhost:8080/"
        },
        "id": "LfBaN-pvA3XT",
        "outputId": "875ca6d9-d030-4f33-c6b6-8f7b45dc2c7b"
      },
      "execution_count": 79,
      "outputs": [
        {
          "output_type": "execute_result",
          "data": {
            "text/plain": [
              "3"
            ]
          },
          "metadata": {},
          "execution_count": 79
        }
      ]
    },
    {
      "cell_type": "code",
      "source": [
        "tensor.shape"
      ],
      "metadata": {
        "colab": {
          "base_uri": "https://localhost:8080/"
        },
        "id": "3QeIzyEkBHSr",
        "outputId": "e84d149c-abc9-4a69-aa1b-0053eeacf5f2"
      },
      "execution_count": 80,
      "outputs": [
        {
          "output_type": "execute_result",
          "data": {
            "text/plain": [
              "torch.Size([1, 3, 4])"
            ]
          },
          "metadata": {},
          "execution_count": 80
        }
      ]
    },
    {
      "cell_type": "markdown",
      "source": [
        "# **3. Random Tensors**"
      ],
      "metadata": {
        "id": "eBwpcenRChpq"
      }
    },
    {
      "cell_type": "code",
      "source": [
        "random_tensor=torch.rand(size=(3,4)) # we can add size without providing the size=, just (3,4) is enough\n",
        "random_tensor, random_tensor.dtype"
      ],
      "metadata": {
        "colab": {
          "base_uri": "https://localhost:8080/"
        },
        "id": "vVk6OWiMBJQr",
        "outputId": "83da4973-8ab1-438f-aed4-b305c82c8c4a"
      },
      "execution_count": 81,
      "outputs": [
        {
          "output_type": "execute_result",
          "data": {
            "text/plain": [
              "(tensor([[0.3235, 0.1928, 0.3216, 0.3589],\n",
              "         [0.8988, 0.4030, 0.8894, 0.6473],\n",
              "         [0.7245, 0.6020, 0.0634, 0.1474]]),\n",
              " torch.float32)"
            ]
          },
          "metadata": {},
          "execution_count": 81
        }
      ]
    },
    {
      "cell_type": "markdown",
      "source": [
        "you can get the size whatever you want .."
      ],
      "metadata": {
        "id": "BXgqXuNrDbrr"
      }
    },
    {
      "cell_type": "code",
      "source": [
        "bigger_tensor=torch.rand(1,3,4)\n",
        "bigger_tensor"
      ],
      "metadata": {
        "colab": {
          "base_uri": "https://localhost:8080/"
        },
        "id": "B8j-r2tTDDxJ",
        "outputId": "c87b552d-37c3-4ca3-db58-b25803db3d60"
      },
      "execution_count": 82,
      "outputs": [
        {
          "output_type": "execute_result",
          "data": {
            "text/plain": [
              "tensor([[[0.9076, 0.2972, 0.6332, 0.0068],\n",
              "         [0.4759, 0.1272, 0.1785, 0.4201],\n",
              "         [0.8094, 0.2458, 0.7198, 0.7508]]])"
            ]
          },
          "metadata": {},
          "execution_count": 82
        }
      ]
    },
    {
      "cell_type": "markdown",
      "source": [
        "# **4.Zeros And ones**"
      ],
      "metadata": {
        "id": "0_u7Hg2aDw0Z"
      }
    },
    {
      "cell_type": "markdown",
      "source": [
        "sometimes you'll just want to fill tensors with zeros and ones <br>\n",
        "like for **masking** etc"
      ],
      "metadata": {
        "id": "tTay_ylSD4nZ"
      }
    },
    {
      "cell_type": "code",
      "source": [
        "#create a tensor of all zeros\n",
        "zeros=torch.zeros(size=(3,4))\n",
        "zeros"
      ],
      "metadata": {
        "colab": {
          "base_uri": "https://localhost:8080/"
        },
        "id": "g4YhC_GeDnJJ",
        "outputId": "b3f23d85-412b-4fce-878e-3858a073b5a5"
      },
      "execution_count": 83,
      "outputs": [
        {
          "output_type": "execute_result",
          "data": {
            "text/plain": [
              "tensor([[0., 0., 0., 0.],\n",
              "        [0., 0., 0., 0.],\n",
              "        [0., 0., 0., 0.]])"
            ]
          },
          "metadata": {},
          "execution_count": 83
        }
      ]
    },
    {
      "cell_type": "code",
      "source": [
        "#create a tensor of all ones\n",
        "ones=torch.ones(3,4)\n",
        "ones"
      ],
      "metadata": {
        "colab": {
          "base_uri": "https://localhost:8080/"
        },
        "id": "dAyjjKBbERjw",
        "outputId": "1c333dde-3b07-4016-af31-5a2f841f695f"
      },
      "execution_count": 84,
      "outputs": [
        {
          "output_type": "execute_result",
          "data": {
            "text/plain": [
              "tensor([[1., 1., 1., 1.],\n",
              "        [1., 1., 1., 1.],\n",
              "        [1., 1., 1., 1.]])"
            ]
          },
          "metadata": {},
          "execution_count": 84
        }
      ]
    },
    {
      "cell_type": "markdown",
      "source": [
        "# **5.creating a range and tensors like**"
      ],
      "metadata": {
        "id": "KC_bvN15EtV5"
      }
    },
    {
      "cell_type": "markdown",
      "source": [
        "**Arange**"
      ],
      "metadata": {
        "id": "jtfRVSZAE0yw"
      }
    },
    {
      "cell_type": "markdown",
      "source": [
        "Sometimes you want a range of numbers, such as 1 to 10 etc<br>\n",
        "use **torch.arange(start,end,step)**"
      ],
      "metadata": {
        "id": "3rKDshLSE3Bh"
      }
    },
    {
      "cell_type": "code",
      "source": [
        "tensor_with_arange=torch.arange(1,10,2)\n",
        "tensor_with_arange"
      ],
      "metadata": {
        "colab": {
          "base_uri": "https://localhost:8080/"
        },
        "id": "lnYZB7uGEaLY",
        "outputId": "3092fb67-abbb-4238-8724-fb5f1bb6d36b"
      },
      "execution_count": 85,
      "outputs": [
        {
          "output_type": "execute_result",
          "data": {
            "text/plain": [
              "tensor([1, 3, 5, 7, 9])"
            ]
          },
          "metadata": {},
          "execution_count": 85
        }
      ]
    },
    {
      "cell_type": "markdown",
      "source": [
        "**tensors_like**"
      ],
      "metadata": {
        "id": "7IC4BcOwFhY5"
      }
    },
    {
      "cell_type": "markdown",
      "source": [
        "a tensor of all zeros, ones, etc with the same shape as previous"
      ],
      "metadata": {
        "id": "8Bw4_IWMFj6I"
      }
    },
    {
      "cell_type": "markdown",
      "source": [
        "**Zero_like**"
      ],
      "metadata": {
        "id": "ME8zyYUuFsNQ"
      }
    },
    {
      "cell_type": "code",
      "source": [
        "sample=torch.rand(3,4)\n",
        "sample"
      ],
      "metadata": {
        "colab": {
          "base_uri": "https://localhost:8080/"
        },
        "id": "7ufIxkyVFR7g",
        "outputId": "e6069fdb-89cf-409e-b158-768dffbfe4ae"
      },
      "execution_count": 86,
      "outputs": [
        {
          "output_type": "execute_result",
          "data": {
            "text/plain": [
              "tensor([[0.8488, 0.2582, 0.7957, 0.4948],\n",
              "        [0.9248, 0.2133, 0.2124, 0.3385],\n",
              "        [0.0093, 0.8242, 0.2952, 0.9764]])"
            ]
          },
          "metadata": {},
          "execution_count": 86
        }
      ]
    },
    {
      "cell_type": "code",
      "source": [
        "zeros_like_tensor=torch.zeros_like(sample)\n",
        "zeros_like_tensor"
      ],
      "metadata": {
        "colab": {
          "base_uri": "https://localhost:8080/"
        },
        "id": "xc1EXCfRF1UP",
        "outputId": "870527a2-a599-4ae5-95d0-f4f5623323bc"
      },
      "execution_count": 87,
      "outputs": [
        {
          "output_type": "execute_result",
          "data": {
            "text/plain": [
              "tensor([[0., 0., 0., 0.],\n",
              "        [0., 0., 0., 0.],\n",
              "        [0., 0., 0., 0.]])"
            ]
          },
          "metadata": {},
          "execution_count": 87
        }
      ]
    },
    {
      "cell_type": "markdown",
      "source": [
        "**Ones_like**"
      ],
      "metadata": {
        "id": "ebMxvGhoGCYn"
      }
    },
    {
      "cell_type": "code",
      "source": [
        "ones_like_tensor=torch.ones_like(sample)\n",
        "ones_like_tensor"
      ],
      "metadata": {
        "colab": {
          "base_uri": "https://localhost:8080/"
        },
        "id": "qSS9k8T1F9VH",
        "outputId": "db09ae19-5474-4b96-b54f-878a98be509b"
      },
      "execution_count": 88,
      "outputs": [
        {
          "output_type": "execute_result",
          "data": {
            "text/plain": [
              "tensor([[1., 1., 1., 1.],\n",
              "        [1., 1., 1., 1.],\n",
              "        [1., 1., 1., 1.]])"
            ]
          },
          "metadata": {},
          "execution_count": 88
        }
      ]
    },
    {
      "cell_type": "markdown",
      "source": [
        "**Torc.eye(n,m=none.etc)**"
      ],
      "metadata": {
        "id": "7ApfYvF2b0Es"
      }
    },
    {
      "cell_type": "markdown",
      "source": [
        "**creates a 2d tensor with ones on the diagonal and zeros everywhere**"
      ],
      "metadata": {
        "id": "Gwv3hDxFcUq8"
      }
    },
    {
      "cell_type": "code",
      "source": [
        "eye_tensor=torch.eye(2)\n",
        "eye_tensor"
      ],
      "metadata": {
        "colab": {
          "base_uri": "https://localhost:8080/"
        },
        "id": "fy-RyutecDU8",
        "outputId": "9afe04cf-8bfc-4697-e9d3-0fea68f15675"
      },
      "execution_count": 89,
      "outputs": [
        {
          "output_type": "execute_result",
          "data": {
            "text/plain": [
              "tensor([[1., 0.],\n",
              "        [0., 1.]])"
            ]
          },
          "metadata": {},
          "execution_count": 89
        }
      ]
    },
    {
      "cell_type": "markdown",
      "source": [
        "**torch.full(size,full_value)**"
      ],
      "metadata": {
        "id": "LpRKtIBHclcf"
      }
    },
    {
      "cell_type": "markdown",
      "source": [
        "**creates a tensor filled with fill_value**"
      ],
      "metadata": {
        "id": "Mq1PNKAuc6PH"
      }
    },
    {
      "cell_type": "code",
      "source": [
        "full_tensor=torch.full((2,3), 1)\n",
        "full_tensor"
      ],
      "metadata": {
        "colab": {
          "base_uri": "https://localhost:8080/"
        },
        "id": "RVEt_GeccDSb",
        "outputId": "cea88f96-0a1d-4295-be10-d50800d6d772"
      },
      "execution_count": 90,
      "outputs": [
        {
          "output_type": "execute_result",
          "data": {
            "text/plain": [
              "tensor([[1, 1, 1],\n",
              "        [1, 1, 1]])"
            ]
          },
          "metadata": {},
          "execution_count": 90
        }
      ]
    },
    {
      "cell_type": "markdown",
      "source": [
        "**Torch.linspace(start,end,steps)**"
      ],
      "metadata": {
        "id": "fV9gPsfhdJyJ"
      }
    },
    {
      "cell_type": "markdown",
      "source": [
        "**creates a 1D tensor of linearly spaced points between the start and end**"
      ],
      "metadata": {
        "id": "onRGBIdWdhKe"
      }
    },
    {
      "cell_type": "code",
      "source": [
        "linear_tensor=torch.linspace(1,10,5)\n",
        "linear_tensor"
      ],
      "metadata": {
        "colab": {
          "base_uri": "https://localhost:8080/"
        },
        "id": "owxWuzr1cDPz",
        "outputId": "54890cad-94fe-463d-f5bd-33371620b0aa"
      },
      "execution_count": 91,
      "outputs": [
        {
          "output_type": "execute_result",
          "data": {
            "text/plain": [
              "tensor([ 1.0000,  3.2500,  5.5000,  7.7500, 10.0000])"
            ]
          },
          "metadata": {},
          "execution_count": 91
        }
      ]
    },
    {
      "cell_type": "code",
      "source": [],
      "metadata": {
        "id": "V9dNHflecDJg"
      },
      "execution_count": 91,
      "outputs": []
    },
    {
      "cell_type": "markdown",
      "source": [
        "# **6.Tensor datatypes**"
      ],
      "metadata": {
        "id": "LPxYB4SqGxSX"
      }
    },
    {
      "cell_type": "markdown",
      "source": [
        "**default is torch.float32 or torch.float.**"
      ],
      "metadata": {
        "id": "Q-7k-wocHLdv"
      }
    },
    {
      "cell_type": "markdown",
      "source": [
        "An integer is a flat round number like 7 whereas a float has a decimal 7.0"
      ],
      "metadata": {
        "id": "O5OjO5ZiHFj-"
      }
    },
    {
      "cell_type": "code",
      "source": [
        "sample.dtype"
      ],
      "metadata": {
        "colab": {
          "base_uri": "https://localhost:8080/"
        },
        "id": "gY-Hg2v-GLEO",
        "outputId": "725c1800-a27a-4183-e4ff-2c4a2808b319"
      },
      "execution_count": 92,
      "outputs": [
        {
          "output_type": "execute_result",
          "data": {
            "text/plain": [
              "torch.float32"
            ]
          },
          "metadata": {},
          "execution_count": 92
        }
      ]
    },
    {
      "cell_type": "code",
      "source": [
        "new_sample=torch.arange(3,4,dtype=int)\n",
        "new_sample,new_sample.dtype"
      ],
      "metadata": {
        "colab": {
          "base_uri": "https://localhost:8080/"
        },
        "id": "lSbGO2OzHiMe",
        "outputId": "e93482f5-87b8-4a09-a24e-329a0a214277"
      },
      "execution_count": 93,
      "outputs": [
        {
          "output_type": "execute_result",
          "data": {
            "text/plain": [
              "(tensor([3]), torch.int64)"
            ]
          },
          "metadata": {},
          "execution_count": 93
        }
      ]
    },
    {
      "cell_type": "markdown",
      "source": [
        "for more detail visithttps://pytorch.org/docs/stable/tensor_attributes.html"
      ],
      "metadata": {
        "id": "S20AS-wcIUfI"
      }
    },
    {
      "cell_type": "markdown",
      "source": [
        "The reason for all of these is to do with **precision in computing**.\n",
        "\n",
        "Precision is the amount of detail used to describe a number.\n",
        "\n",
        "The higher the precision value (8, 16, 32), the more detail and hence data used to express a number.\n",
        "\n",
        "This matters in deep learning and numerical computing because you're making so many operations, the more detail you have to calculate on, the more compute you have to use.\n",
        "\n",
        "So lower precision datatypes are generally faster to compute on but sacrifice some performance on evaluation metrics like accuracy (faster to compute but less accurate)."
      ],
      "metadata": {
        "id": "tmDjly48IYCl"
      }
    },
    {
      "cell_type": "markdown",
      "source": [
        "**6.1 change tensor datatype**"
      ],
      "metadata": {
        "id": "YIVz6c3YeI84"
      }
    },
    {
      "cell_type": "code",
      "source": [
        "tensor=torch.arange(1.,10.)\n",
        "tensor.dtype"
      ],
      "metadata": {
        "colab": {
          "base_uri": "https://localhost:8080/"
        },
        "id": "CqKrlfYLeQ0v",
        "outputId": "055d20df-09b3-4f22-b1d1-83c0baf9216b"
      },
      "execution_count": 94,
      "outputs": [
        {
          "output_type": "execute_result",
          "data": {
            "text/plain": [
              "torch.float32"
            ]
          },
          "metadata": {},
          "execution_count": 94
        }
      ]
    },
    {
      "cell_type": "code",
      "source": [
        "tensor_float16=tensor.type(torch.float16)\n",
        "tensor_float16"
      ],
      "metadata": {
        "colab": {
          "base_uri": "https://localhost:8080/"
        },
        "id": "QILoNJ0JeQxb",
        "outputId": "2f571303-ffd0-43d9-e188-5cd911386dc7"
      },
      "execution_count": 95,
      "outputs": [
        {
          "output_type": "execute_result",
          "data": {
            "text/plain": [
              "tensor([1., 2., 3., 4., 5., 6., 7., 8., 9.], dtype=torch.float16)"
            ]
          },
          "metadata": {},
          "execution_count": 95
        }
      ]
    },
    {
      "cell_type": "code",
      "source": [
        "tensor_int8=tensor.type(torch.int8)\n",
        "tensor_int8"
      ],
      "metadata": {
        "colab": {
          "base_uri": "https://localhost:8080/"
        },
        "id": "JZMRHywmeQuu",
        "outputId": "859297ab-aa9e-461b-a01a-d1c19e194bca"
      },
      "execution_count": 96,
      "outputs": [
        {
          "output_type": "execute_result",
          "data": {
            "text/plain": [
              "tensor([1, 2, 3, 4, 5, 6, 7, 8, 9], dtype=torch.int8)"
            ]
          },
          "metadata": {},
          "execution_count": 96
        }
      ]
    },
    {
      "cell_type": "markdown",
      "source": [
        "# **7.Getting Information from tensors**"
      ],
      "metadata": {
        "id": "hLqEtE32Iu8l"
      }
    },
    {
      "cell_type": "markdown",
      "source": [
        "**most common attributs**"
      ],
      "metadata": {
        "id": "jH2zKU7jI4yF"
      }
    },
    {
      "cell_type": "markdown",
      "source": [
        "* **shape** : what shape is the tensor?(some operations require specific shape rules)\n",
        "* **dtype**: what  datatype are the elements within the tensor stored in ?\n",
        "* **device**: what device is the tensor stored on ? (usually Gpu OR CPU)\n"
      ],
      "metadata": {
        "id": "iGpFN7rAI8yl"
      }
    },
    {
      "cell_type": "code",
      "source": [
        "some_tensor=torch.rand(3,4)\n",
        "some_tensor"
      ],
      "metadata": {
        "colab": {
          "base_uri": "https://localhost:8080/"
        },
        "id": "QR9pYCg4H4Jd",
        "outputId": "8e916e3f-10a7-48cd-8b05-d48d6886aadc"
      },
      "execution_count": 97,
      "outputs": [
        {
          "output_type": "execute_result",
          "data": {
            "text/plain": [
              "tensor([[0.0609, 0.2076, 0.2467, 0.1462],\n",
              "        [0.0852, 0.2480, 0.8598, 0.0195],\n",
              "        [0.1636, 0.7032, 0.4301, 0.2932]])"
            ]
          },
          "metadata": {},
          "execution_count": 97
        }
      ]
    },
    {
      "cell_type": "code",
      "source": [
        "some_tensor.shape"
      ],
      "metadata": {
        "colab": {
          "base_uri": "https://localhost:8080/"
        },
        "id": "8EzIdHrUJrZ8",
        "outputId": "d5a66675-8173-475f-a659-6c7f5b3cd991"
      },
      "execution_count": 98,
      "outputs": [
        {
          "output_type": "execute_result",
          "data": {
            "text/plain": [
              "torch.Size([3, 4])"
            ]
          },
          "metadata": {},
          "execution_count": 98
        }
      ]
    },
    {
      "cell_type": "code",
      "source": [
        "some_tensor.dtype"
      ],
      "metadata": {
        "colab": {
          "base_uri": "https://localhost:8080/"
        },
        "id": "P2WJonstJxUb",
        "outputId": "97a21104-6c5e-4289-d69b-0e00a97e59bf"
      },
      "execution_count": 99,
      "outputs": [
        {
          "output_type": "execute_result",
          "data": {
            "text/plain": [
              "torch.float32"
            ]
          },
          "metadata": {},
          "execution_count": 99
        }
      ]
    },
    {
      "cell_type": "code",
      "source": [
        "some_tensor.device"
      ],
      "metadata": {
        "colab": {
          "base_uri": "https://localhost:8080/"
        },
        "id": "9mXhI0JWJzgL",
        "outputId": "29219043-6f8e-4ee0-cd9a-1944e50ebdc9"
      },
      "execution_count": 100,
      "outputs": [
        {
          "output_type": "execute_result",
          "data": {
            "text/plain": [
              "device(type='cpu')"
            ]
          },
          "metadata": {},
          "execution_count": 100
        }
      ]
    },
    {
      "cell_type": "markdown",
      "source": [
        "When you run into issues in PyTorch, it's very often one to do with one of the three attributes above. So when the error messages show up, sing yourself a little song called \"what, what, where\":\n",
        "\n",
        "\"what shape are my tensors? what datatype are they and where are they stored? what shape, what datatype, where where where\""
      ],
      "metadata": {
        "id": "UwlCPF6wJ_q0"
      }
    },
    {
      "cell_type": "markdown",
      "source": [
        "# **8.Manipulating Tensors (Tenso operations)**"
      ],
      "metadata": {
        "id": "SJVJkN6BKDTM"
      }
    },
    {
      "cell_type": "markdown",
      "source": [
        "**common tensor operations**"
      ],
      "metadata": {
        "id": "ikwAZ0boKQOc"
      }
    },
    {
      "cell_type": "markdown",
      "source": [
        "* **Addition**\n",
        "* **Substraction**\n",
        "* **Multiplication(element-wise)**\n",
        "* **Division**\n",
        "* **Matrix Multiplication**"
      ],
      "metadata": {
        "id": "A5KfLoThKTMT"
      }
    },
    {
      "cell_type": "markdown",
      "source": [
        "# **8.1 Addition**"
      ],
      "metadata": {
        "id": "9davB5bjKnrM"
      }
    },
    {
      "cell_type": "code",
      "source": [
        "tensor=torch.tensor([1,2,3])\n",
        "tensor"
      ],
      "metadata": {
        "colab": {
          "base_uri": "https://localhost:8080/"
        },
        "id": "2l5nDaMTLBN1",
        "outputId": "1f68bf9c-2461-43a7-9c73-70a6a05fef94"
      },
      "execution_count": 101,
      "outputs": [
        {
          "output_type": "execute_result",
          "data": {
            "text/plain": [
              "tensor([1, 2, 3])"
            ]
          },
          "metadata": {},
          "execution_count": 101
        }
      ]
    },
    {
      "cell_type": "code",
      "source": [
        "tensor +10 # adding single number"
      ],
      "metadata": {
        "colab": {
          "base_uri": "https://localhost:8080/"
        },
        "id": "pDUqsTt0LBLj",
        "outputId": "aae42b62-f484-4463-eaec-f174e43a72f4"
      },
      "execution_count": 102,
      "outputs": [
        {
          "output_type": "execute_result",
          "data": {
            "text/plain": [
              "tensor([11, 12, 13])"
            ]
          },
          "metadata": {},
          "execution_count": 102
        }
      ]
    },
    {
      "cell_type": "code",
      "source": [
        "tensor_a=torch.tensor([1,2,3,4])\n",
        "tensor_b=torch.tensor([5,6,7,8])\n",
        "tensor_a,tensor_b"
      ],
      "metadata": {
        "colab": {
          "base_uri": "https://localhost:8080/"
        },
        "id": "XhSi8MGILBG0",
        "outputId": "358ff5a8-1a0a-431c-b747-696e9a348528"
      },
      "execution_count": 103,
      "outputs": [
        {
          "output_type": "execute_result",
          "data": {
            "text/plain": [
              "(tensor([1, 2, 3, 4]), tensor([5, 6, 7, 8]))"
            ]
          },
          "metadata": {},
          "execution_count": 103
        }
      ]
    },
    {
      "cell_type": "code",
      "source": [
        "tensor_a + tensor_b"
      ],
      "metadata": {
        "colab": {
          "base_uri": "https://localhost:8080/"
        },
        "id": "khoAZ2ZOLBEl",
        "outputId": "756d0222-83e0-42e7-e3e6-31f7f28995b7"
      },
      "execution_count": 104,
      "outputs": [
        {
          "output_type": "execute_result",
          "data": {
            "text/plain": [
              "tensor([ 6,  8, 10, 12])"
            ]
          },
          "metadata": {},
          "execution_count": 104
        }
      ]
    },
    {
      "cell_type": "code",
      "source": [
        "torch.add(tensor_a, tensor_b)"
      ],
      "metadata": {
        "colab": {
          "base_uri": "https://localhost:8080/"
        },
        "id": "4SFhw2evM3XC",
        "outputId": "804d6e04-c5d0-4c64-eab7-3c27edda5ca4"
      },
      "execution_count": 105,
      "outputs": [
        {
          "output_type": "execute_result",
          "data": {
            "text/plain": [
              "tensor([ 6,  8, 10, 12])"
            ]
          },
          "metadata": {},
          "execution_count": 105
        }
      ]
    },
    {
      "cell_type": "markdown",
      "source": [
        "# **8.2 Substraction**"
      ],
      "metadata": {
        "id": "ZzPkHuQ3Krfk"
      }
    },
    {
      "cell_type": "code",
      "source": [
        "tensor=torch.tensor([1,2,3])\n",
        "tensor"
      ],
      "metadata": {
        "colab": {
          "base_uri": "https://localhost:8080/"
        },
        "id": "FPWddJ3oLUPz",
        "outputId": "88d8d3fe-a79c-4f2d-a212-ad69466bc180"
      },
      "execution_count": 106,
      "outputs": [
        {
          "output_type": "execute_result",
          "data": {
            "text/plain": [
              "tensor([1, 2, 3])"
            ]
          },
          "metadata": {},
          "execution_count": 106
        }
      ]
    },
    {
      "cell_type": "code",
      "source": [
        "tensor - 10"
      ],
      "metadata": {
        "colab": {
          "base_uri": "https://localhost:8080/"
        },
        "id": "kKL0xoo-LWH7",
        "outputId": "35e9fb7c-62cf-4933-bc07-649a4df50e9b"
      },
      "execution_count": 107,
      "outputs": [
        {
          "output_type": "execute_result",
          "data": {
            "text/plain": [
              "tensor([-9, -8, -7])"
            ]
          },
          "metadata": {},
          "execution_count": 107
        }
      ]
    },
    {
      "cell_type": "code",
      "source": [
        "torch.sub(tensor,10)"
      ],
      "metadata": {
        "colab": {
          "base_uri": "https://localhost:8080/"
        },
        "id": "AlDm_JfyNlga",
        "outputId": "227b2032-98b2-4179-e53c-abbc49a705ac"
      },
      "execution_count": 108,
      "outputs": [
        {
          "output_type": "execute_result",
          "data": {
            "text/plain": [
              "tensor([-9, -8, -7])"
            ]
          },
          "metadata": {},
          "execution_count": 108
        }
      ]
    },
    {
      "cell_type": "markdown",
      "source": [
        "# **8.3 Multiplication(element-wise)**"
      ],
      "metadata": {
        "id": "W4U9NuxcKveD"
      }
    },
    {
      "cell_type": "code",
      "source": [
        "tensor=torch.tensor([1,2,3])\n",
        "tensor"
      ],
      "metadata": {
        "colab": {
          "base_uri": "https://localhost:8080/"
        },
        "id": "Ke1rCBH5LvX7",
        "outputId": "13b3d6fc-beb4-4abe-96b4-a478a5c37d86"
      },
      "execution_count": 109,
      "outputs": [
        {
          "output_type": "execute_result",
          "data": {
            "text/plain": [
              "tensor([1, 2, 3])"
            ]
          },
          "metadata": {},
          "execution_count": 109
        }
      ]
    },
    {
      "cell_type": "code",
      "source": [
        "tensor * 10"
      ],
      "metadata": {
        "colab": {
          "base_uri": "https://localhost:8080/"
        },
        "id": "-sMTQafML2X8",
        "outputId": "c19bd9e6-451d-4336-aa59-39229043cdda"
      },
      "execution_count": 110,
      "outputs": [
        {
          "output_type": "execute_result",
          "data": {
            "text/plain": [
              "tensor([10, 20, 30])"
            ]
          },
          "metadata": {},
          "execution_count": 110
        }
      ]
    },
    {
      "cell_type": "code",
      "source": [
        "torch.multiply(tensor , 10) # element wise multiplication"
      ],
      "metadata": {
        "colab": {
          "base_uri": "https://localhost:8080/"
        },
        "id": "9jgmIQ9-NCOJ",
        "outputId": "976a31a7-dbfc-4027-d395-51b00165df9c"
      },
      "execution_count": 111,
      "outputs": [
        {
          "output_type": "execute_result",
          "data": {
            "text/plain": [
              "tensor([10, 20, 30])"
            ]
          },
          "metadata": {},
          "execution_count": 111
        }
      ]
    },
    {
      "cell_type": "code",
      "source": [
        "torch.mul(tensor,10)"
      ],
      "metadata": {
        "colab": {
          "base_uri": "https://localhost:8080/"
        },
        "id": "Y4n062j0NUeB",
        "outputId": "4c5bbcff-cf60-4504-84fd-e04517947e27"
      },
      "execution_count": 112,
      "outputs": [
        {
          "output_type": "execute_result",
          "data": {
            "text/plain": [
              "tensor([10, 20, 30])"
            ]
          },
          "metadata": {},
          "execution_count": 112
        }
      ]
    },
    {
      "cell_type": "code",
      "source": [
        "tensor"
      ],
      "metadata": {
        "colab": {
          "base_uri": "https://localhost:8080/"
        },
        "id": "hzYHwKkGNale",
        "outputId": "3a7e5287-2895-4fcb-c609-dace71f53051"
      },
      "execution_count": 113,
      "outputs": [
        {
          "output_type": "execute_result",
          "data": {
            "text/plain": [
              "tensor([1, 2, 3])"
            ]
          },
          "metadata": {},
          "execution_count": 113
        }
      ]
    },
    {
      "cell_type": "code",
      "source": [
        "tensor * tensor"
      ],
      "metadata": {
        "colab": {
          "base_uri": "https://localhost:8080/"
        },
        "id": "YtFzSXZ7NOrL",
        "outputId": "0f551465-5c81-467f-9044-aa0a04006744"
      },
      "execution_count": 114,
      "outputs": [
        {
          "output_type": "execute_result",
          "data": {
            "text/plain": [
              "tensor([1, 4, 9])"
            ]
          },
          "metadata": {},
          "execution_count": 114
        }
      ]
    },
    {
      "cell_type": "markdown",
      "source": [
        "# **8.4 Division**"
      ],
      "metadata": {
        "id": "g_5PcekQK3ST"
      }
    },
    {
      "cell_type": "code",
      "source": [
        "tensor=torch.tensor([1,2,3])\n",
        "tensor"
      ],
      "metadata": {
        "colab": {
          "base_uri": "https://localhost:8080/"
        },
        "id": "EFuQnlXDMc2L",
        "outputId": "7454d5c5-5522-4e48-dccc-f647bcc2c981"
      },
      "execution_count": 115,
      "outputs": [
        {
          "output_type": "execute_result",
          "data": {
            "text/plain": [
              "tensor([1, 2, 3])"
            ]
          },
          "metadata": {},
          "execution_count": 115
        }
      ]
    },
    {
      "cell_type": "code",
      "source": [
        "tensor / 10"
      ],
      "metadata": {
        "colab": {
          "base_uri": "https://localhost:8080/"
        },
        "id": "gS0pwHyuMeby",
        "outputId": "e78628b2-1b8e-43f9-9c96-297031c09d79"
      },
      "execution_count": 116,
      "outputs": [
        {
          "output_type": "execute_result",
          "data": {
            "text/plain": [
              "tensor([0.1000, 0.2000, 0.3000])"
            ]
          },
          "metadata": {},
          "execution_count": 116
        }
      ]
    },
    {
      "cell_type": "markdown",
      "source": [
        "# **8.5 Matrix Multiplication**"
      ],
      "metadata": {
        "id": "C3YcFEOnK6xb"
      }
    },
    {
      "cell_type": "markdown",
      "source": [
        "how matric is multiplied <br>\n",
        "visit: **matrix multiplication mathisfun**"
      ],
      "metadata": {
        "id": "aZzLc8UIN-PR"
      }
    },
    {
      "cell_type": "code",
      "source": [
        "matrix_a=torch.tensor([[1,2,],\n",
        "                       [3,4,]])\n",
        "matrix_b=torch.tensor([[5,6,],\n",
        "                       [7,8,]])\n",
        "matrix_a,matrix_b"
      ],
      "metadata": {
        "colab": {
          "base_uri": "https://localhost:8080/"
        },
        "id": "5ItHvX-mJ16D",
        "outputId": "71b9ebfd-c650-4147-af80-dadf9445511a"
      },
      "execution_count": 117,
      "outputs": [
        {
          "output_type": "execute_result",
          "data": {
            "text/plain": [
              "(tensor([[1, 2],\n",
              "         [3, 4]]),\n",
              " tensor([[5, 6],\n",
              "         [7, 8]]))"
            ]
          },
          "metadata": {},
          "execution_count": 117
        }
      ]
    },
    {
      "cell_type": "code",
      "source": [
        "matrix_a.shape,matrix_b.shape"
      ],
      "metadata": {
        "colab": {
          "base_uri": "https://localhost:8080/"
        },
        "id": "4GfX_8Q0OtjQ",
        "outputId": "b586edf6-6b68-44ac-8a5f-9db7ce7b96fa"
      },
      "execution_count": 118,
      "outputs": [
        {
          "output_type": "execute_result",
          "data": {
            "text/plain": [
              "(torch.Size([2, 2]), torch.Size([2, 2]))"
            ]
          },
          "metadata": {},
          "execution_count": 118
        }
      ]
    },
    {
      "cell_type": "markdown",
      "source": [
        "![image.png](data:image/png;base64,iVBORw0KGgoAAAANSUhEUgAAAfMAAAFUCAYAAAAwFtUdAAAgAElEQVR4Ae2dvW4cudKGvzsRJvdNGdhAgOMNnRsKBd3A4sDO5fRsoL0A6YQbONkTGVAgCCd0wg9VZJFVZHU3u+eve+YV4J2ZbrJ+Hv68JHuk/b+AHxAAARAAARAAgU0T+L9NR4/gQQAEQAAEQAAEAsQcnQAEQAAEQAAENk4AYr7xBkT4IAACIAACIAAxRx8AARAAARAAgY0TgJhvvAERPgiAAAiAAAhAzNEHQAAEQAAEQGDjBCDmG29AhA8CIAACIAACEHP0ARAAARAAARDYOAGI+cYbEOGDAAiAAAiAAMQcfQAEQAAEQAAENk7g/253u7Bz/z2EZ0ru5SHsdun9ipN9/X4bdrvb8PhzxUEeNLTn8LDbhYeXgxpVxqJ96hu331/V9W2/XWU/6RhjS+LmOp8eQ2y91J73PKoP34g/HwPNJZfUVw4P6ZAWX8PjJ/A+JNGt2yo7cx6Mjmh3TDRbh1DipwlvKwuCY4r5BicK6qdZuEqLbuJdM8YO0w+tmB+SROwfx1tIjsV6Tt9jcZ363gbH6KkRXZk/iLlp8MNMosbk0T4cX8zPM1kvBAYxb8BBzBskF3QBYn5BjXmQVPrFPB2jxSP5oR18ObIfFQLZifBrqsPHf7GDyrF/Y0OXr4/0xGbCkicyXWds56bL8WOHh/DsnFY83+/sDrApE0VWcph+RCGiLPUiW/ZTHYlyTvma1FP9wLRRewTH9fMjlaETCIlD2lKVq+zXO2Fh/syPPFr/MVKJW/uJOZv4cp4pv9q3us+scl67sON7Mtk983FkfgSj+0myqftZ074Kb37kpPuK8iVtru0F9qEYsj3KXV3TMWnb0g+pji4TQhDWr6a8HZe5DPsUHvaRiWVXxyR9QLVl3Q45D2lXDUy3Mdmy8eWcjM2qjDZnypE9FW8IweYy9QhKeFT9I7MuuZv2lHbQ3Kf6gOIvfcSOHWGneU2NCYn/1eatxoWgs1w0X7HhMJDK8qrzHZp7pUyOIdp3c05tadiKL7wuItAp5lrAUgPlBmsnGn8CU/HVja4GqTRunNh1x6PBqj5zHTWY2Wa5n4UhxxkHyvgzPSqjbIaYq8QU0mczKZFfWSQ4HdTLQ5GgKYiffRubMjHl2GMNtpWvxXo5tppHspvvV3zCy+PI9wvqvKWNNZs0eUruIjD1QLfJOvmqAS+5uRwfVLxV7uRDtwP7FLs25iwgKS5mKjmw39KHmtCZoSwWQoj9PE76wrlp76ZdyGrVz+q2qe9TlapM9KNiyfxL/Ca31Hd1/28WLqpPjI61ZlxITkpA3Tak77WU+GJOE3NL0whO35RxKf2H6jj+ram+/tHMZUv6wBD7HG89B0hsqn2bfEoZ6Xt5fsp20xhVn70+US+KLKf4abQ/1Ey4Soyv6W85FmcMe45xrZtAp5iPTYix0UqHir5potANaSKqJia6xxNLbmi+UgmrsUBTF++4st/KZjOpymRnfNQ2q0m2josG1KeH8PCpTFo6zzYHsl/FWbtMoluz8mxxTjl+Oxh0HOLClCc+IlpSYPC1jjl+rmOsRclj3rqwcfP9qu3ompePttXcb/KLMcdduqrZ+Cq5NjZVNX7b1O3otzwJV+OnFuvGbtsPfTFXwsgBWrbcHrnNqzbkuOr6dcLyuTCKV+rPdNX6JpYN+3oscN4VG7qWYxb/+tXx3fBLUdIJUR4v2ga9j3bsfcd23RcdX22uVft5ORn+lh1HOuCnjEEv/mrRZ3xI/jq2ARtSdPC14sSxdrSjG8+gE9yYSaBTzKtBbzpa7Ij5KKU57nQiMvXj/XYi1Z1ObKTOp3yMink1KdjJTWzqV8cnxZrsUH0aTPIaJwTpxDG2MtiK3Ta3cq+eBOVOO0Gko9U8OUXuMf+WS26PzKC0U2YmzprXarBWE3UpbstN86WaOu5kSTEW2x4zZqLa3rBubAy0h9P32h2iRFG9OnXbOKs+xBOY9BGxV5Vp7Fb3qVpVxmc91h6Wh19f4qPXWD73I/ObE9ZPrKXb1frSVg2vKicu513TBuoFgSzScz9XhcmWd52LeDHGHHTO+b2MOyc+kxPbtu3HrFW/zTbzKaBml+J3Yrd+vPjlRCLN1xxreVxQ/MpmZMCGQljexrKtjbZvUp3pnItlvDsMgYOJ+bRAqIAXDAg5NisTeOxc2W9l05usvGsqqiQ0QxMv+Uv3ZKCZlWYVjzJsB6G6wW+dgZx2A3bXMC3mhU3tQ33mmGmAVws0VUQm8sy23knmsjbnab5U0clXeGa79c481tE8GqaNjRhbw6TqJ+xSmAxO/Ckwp24TR81qzWIuAqW4ax6FnW3ntn9QLd2udfniwPByeNaLllJT3rW2ud95uTR9QmzQq9c/dA66rHrvxGxy4qJkp8wj0+PC8evEbv148XtiPj3OSzurPPXbND5KuaoNHCbTOWsHeH8IAgcQ84FONRad0/i2o1JlZ0CYATveobzO5F2zYVqf8Z74eQ4PebKncg/hmfJQMVEO+rOtbz2VT85AlpWtsk3lrX1bz94r1ofetbx1SclZrg21seU1zZfs2bjZw9TENXWfjDRlBmKmcmYhI7nKq+TsvDZ160UH1bFM2s8y4ZbJvhWw2ka7+/FZ23q2TMXDyUUy5nqm79Vs6s+St+z46r6aLY8+GuNSI3FFK47vgTptHhIHvVY8+JZ3Tddp24HutmPJtkPbvpXNJWPCjb8aB+5CUvvuyNedi6o28Ph717RrvD84gQOIuXRwNTlxB9BfWKridhp67oDggaqP/iqbdiKL/r1rNjIahGVCknviSws1i2ddNq1gy45WfetYjDWvvs84ASimnJ9eLFT1HN9kQ2J5/a7bY2oQV4OVYmb/Kp5mcdGTKxmq4hbbeaEUAZn+UE9KiUXZKUh8ehcykONYP6nuxUjUf537Jk4uSvlpTjGO0nfSZ12msTvASC1CpE9qBtwnlQjb/l7zqOMihulLkVU84kv6ki+EVcxOf7TxeG02cE01ge/byaXuM8YGfah5pAKcu24/6tdq7FRsqNb8PsC1wkNuq4od3SY/Y2MixW+/vNba4T5h7LyGx3v5Q0IDDBKK/FLl3PSH6n6s57QJjf2xnLNDvFlC4DBiLqs3/VwoN5oTltP40wMirfaTj9vv8dcp8gRT2WwmDonRdOw2NumoZvc2NDGpyTVbSmXzs6UJf664JWM8EIXp/XN8DpW5tgM3Cq56RqZ9M59yT4tAjj2/iQMxs5XrlY0iULGAx1yqlteBuHWszgRZ2iUuaNr+kiYP4sWMBiYq3U/4vZ2428mvRB756gVDz0QuO3FhT/6IgfKrY0ruSr7JX1VGWMuvAXJ/qxhKmfjLaB4PxYz7WclN971mrFGMHA/lJHk47To1FqqcOHXvmmqCUkb7pqt1LhJXXVk+ezzivcI+tVkec5J34UQ12r5YtS+bjXzyvJC5sYV2E0Ecqva0fiR++bWyGGs7rmsuerMiNuyvK0YK9r+j/WGwzWbmbF3i00wCRcxnVkRxEACB8xGwQn2+OOAZBEBgHQQg5utoB0QBArMIQMxn4UJhELh4AhDzi29iJHiJBCDml9iqyAkElhOAmC9nh5ogAAIgAAIgsAoCEPNVNAOCAAEQAAEQAIHlBCDmy9mhJgiAAAiAAAisggDEfBXNgCBAAARAAARAYDkBiPlydqgJAiAAAiAAAqsgADFfRTMgCBAAARAAARBYTgBivpwdaoIACIAACIDAKghAzFfRDAgCBEAABEAABJYTgJgvZ4eaIAACIAACILAKAhDzVTQDggABEAABEACB5QQg5svZoSYIgAAIgAAIrIIAxHwVzYAgQAAEQAAEQGA5AYj5cnaoCQIgAAIgAAKrIAAxX0UzIAgQAAEQAAEQWE4AYr6cHWqCAAiAAAiAwCoIQMxX0QwIAgRAAARAAASWE4CYL2eHmiAAAiAAAiCwCgIQ81U0A4IAARAAARAAgeUEIObL2aEmCIAACIAACKyCAMR8Fc2AIEAABEAABEBgOQGI+XJ2qAkCIAACIAACqyAAMV9FMyAIEAABEAABEFhOAGK+nB1qggAIgAAIgMAqCEDMV9EMCAIEQAAEQAAElhOAmC9nh5ogAAIgAAIgsAoCEPNVNAOCAAEQAAEQAIHlBDYt5q/fb8Pu/rk7++f7Xdjt/H+3319DCK/h8dMuxPfdZicKPoeH5PPhZaLo2m7/fAy3HPttePwZg8sMZ3A/V1pbivVcjM7vN46PzY2N84NDBCBgCGxTzLPI7GaJuc6cJvpWtCHmmlHInCHmhssWPrw8hN2nx0BL1NP+xDHUL84Q89O2D7xdKoENinkZ/HN35roRTyfm2uvG3jtivrEMrjdciPn1tj0yv0oCGxTz0k7HFPN8RLsb3sHnI/vRHVB7zM5x0/E11aNJV47+tR0jpMXGbld2yUJCx0q29K5I+3qmxxLVfbERX7WfXXj43nHMPhjnQ6AHINk/5dgczcddXM6/yi3ndf88Yqe2UdpL19d55uvC3cRVGDy8WNuaqzySKbEXv9oXvWcGnx6D8Kc68VSo+GralbnWbU3l9TVdv/Adz69EtyiuEIK1r+LJfUEeZal7g/ViDmOs2Z8eGyUFvAMBEEgEIOamK5TJO0/cLLZ6Uopl9BE9TzZGELTRMuGKTSNwIijpNdttJkaZINMiILmwE2spM+ZL7ukoPXEqQlXyz/4k37E4q9zIXvFdWBc/FL/ja9COb0MYNrGm70RYf4lZFovSXm25uEAZYiV+LdeyoMn38wKuyjXHEEJ8xFHuR5sUm1yr++FrePyuvj/SsTOXfjgrrvAcHqTt1UKlHOfHuEo7p8jp+yo6v5fH9D0M4S15CS9hXRZDxUdNGJ9BAAQg5qYPJHFQk5VM3GbC05MS1WdBK5OPMUmTXxIjmeBkEi3CpURJfCuRFN+lXvKVy9QTYdmllTpaSG2E/MkRmFK32G8EMscgu029c5N6hYHkErK/wk1sSxn5vNtJmdpO+SxsdWa5vjDNPiWuEEocwqfYzCcJTb1SxvOrY6D3zNH0mVqInT7EXFWcbJT8yjVfNLNvitn4zHfym0Vx5drpDccp7UPXnLiaMtpIZCltHu/Eaz1stSW8B4FrJgAxN63vTLLVN9yLwJVdcNzBySRrDNLh4rCYq8k225VrWSSV3fpaFpk6lrILauzW4aXPfjmJvcTQCGQdk4gXLWAkF7Ujlkk7+3N23SKijS99VMsCHdtL76DFPqVV188+Rdw592Ij1pWcRdzZUtWGpY741n4T0vzCfjMLuhzrG7GqBY8/F+7RGMVWruV8jO3kdg8xH42LzOc2l343LuZt/ilGfom8jc80Zuw1XQfvQQAEagIQc0MkTrJ2YrbXxicmYyx9aMXBm4Sba3nCLJN3mUTjtVwn71xb/7mMN+Gr4rXw8S0nhqacU6b1WcRP2GY7I3HlMkp8vWvZnywMUvm6bP05pl/H1raXtyCjukN+FVZ+y+VMntGnESvmqESRP6u2Z0tWzMWP5CVs+fqRxDzmrOKq43YWKlxHtaHEHV8h5pYHPoHAMgIQc8PNCne8VV3j3bCadE1970MrDlkE1ATfXHNEshZzfUSsJ/LX7w/598Ibu16IRpjKRJ3rqt2gCIfsnpuYtK2cXy2YVgi1qD3fF7aNL2e3rdPJ8Sa/Tf18klFyLAzlWtteQ2Iuvmu/cl1e+X5mQVc7xJx3pxJTsuQKvL5X2HFexqdEU17nx9UTt1NmdMxAzEuL4B0ILCdwcWLeTlA+HJrotQDGUnEistfra/FzFjOuaL8UZD224uBN/s21HjFXx9dy3Fsf+Td2bXDlU/YnR6f6tYhKI5C5XinT+kzM8re4yW3hYmMvgtT4asR8wMbAzlxE1PpLeeadY7FZFhn1tfLZ2Mo2ClZ6xzyMsEYexb4cXZfcc6zZpjAUzlWfqwWz/mxD4k9L4uI2aWJq4/bGkBkz1RfgDIvqmL2N00kGl0DgyglAzE0HiBOmNxHZa/VkLhOsMZY+lLIyYbVip3aqMuk7IuntgslJFr3qmJnueb68KPla9kkCdxseX+b+alq03PoUIaoXUOW6iKLmnPPK4qFy5WuFrdTXguHVzyIprMwCg+IvNqW92muljOe35tuKUcy72PfEXK7Joor6GPmVvlaz04JKEaj7ip+ObVlcOnfpI5Vv7wREx8PspU60Z1hAzHUz4T0IdBHYtJh3ZYhCIAACIAACIHDhBCDmF97ASA8EQAAEQODyCUDML7+NkSEIgAAIgMCFE4CYX3gDIz0QAAEQAIHLJwAxv/w2RoYgAAIgAAIXTgBifuENjPRAAARAAAQunwDE/PLbGBmCAAiAAAhcOAGI+YU3MNIDARAAARC4fAIQ88tvY2QIAiAAAiBw4QQg5hfewEgPBEAABEDg8glAzC+/jZEhCIAACIDAhROAmF94AyM9EAABEACByycAMb/8NkaGIAACIAACF04AYn7hDYz0QAAEQAAELp8AxPzy2xgZggAIgAAIXDgBiPmFNzDSAwEQAAEQuHwCEPPLb2NkCAIgAAIgcOEEIOYX3sBIDwRAAARA4PIJQMwvv42RIQiAAAiAwIUTgJhfeAMjPRAAARAAgcsnADG//DZGhiAAAiAAAhdOAGJ+4Q2M9EAABEAABC6fAMT88tsYGYIACIAACFw4AYj5hTcw0gMBEAABELh8AhDzy29jZAgCIAACIHDhBK5KzH/9+hXe39/D29sb/oFB0weob1AfwQ8IgAAIbI3AVYk5hByLmKmFHPUR/IAACIDA1ghclZhPTeS4D7GnPoAfEAABENgaAYg5jpub4+ZrX9RsbRAjXhAAARCAmHti/tdduPnytFKR+xG+/vYxfP17Tbvop3B3cxeePJZnvzaf11qmhdfvt2F3/7yWcFQcz+FhtwsPL+oS3oIACJyVAMS8FhsS8ptWLH98+xhubm7Kv9++hh913QN8tn7aOHjXzDHuKZ5/fw0fVT53fy1dHJCQ34SP337YxU9l32N6iBOAY/A664hUzmsxrz+roid+CzE/MXC4A4FJAhBzI8BRmKaFjXZ7joAZWwvEkQRQLRKiUPmi/fTlJtyosrOEsV6wsPAOLBwmcuI4Ok4xOJel8Q7FcCRek6PmRAVq8a4/nygMxw3E3IGCSyBwVgKbEfPPnz+HDx8+8D96v+RnSvDmCE6viE35HL8/trgYuze2kKB6rXBz7h2ibOKdswg4xGnCkKjn62NMxu5ZXk3fenkIu0+P4TXfeA2Pn3b2CLwpEwVvt9uF+O8hmANzKr97CM8/H8PtUJnaXy63C7ffSzS5WBNDR5zG/67KMwReQHx6DM905L8Tv7WYp1wNoxwV3oAACJyAwCbEnMS7TIpxclwi6EaIsgDIRB5329O7cirfLwzjPsX30Ou4nyULikHRrna5PXEP2mrYvoUlsfbEYMschlc77kisbsPjT7nTipfZNSeB1M+U+T6Jt5hgMdfi6QivlE2vxkd1L36cGSfHoPMK4flex5TEPIu4OI35x/ym45ZaeAUBEDgegU2IOe3IazGna3N/7MRfCWjHLpMFKT1nbp4ROwI26q+jPIvl2BfLaLc78+iacogLlih88XsAdJT/FO5m2ep41MC78fQ9g1m2q7bpYEWsD8Wr7VdRsPJumETw/kEJfLwv4s2C2HxxzZYJjpDytZHd7bSYz4mzKpuTtguCZhHC5YqY1+KfzeANCIDASQlAzEUoZh4Ds7AfU6B4cTHxXH5mzPFEIT6Dp/h5QZJ35CTu/vN5f1Eyvgtu6nCs7fF+U07aY+7rAXl5I1ALKQkYCbe8hkDiJrvuIZGM5c2CINdJHlngxU4bhY6hvRuv6DISn7zaOIsgW1t20cH2mgVGrHv76bY5lre28AkEQOBUBDYh5ic5Zp8rjB07+cVClYRp8tfj5sacd98kxElYyQY/K5+7M58p5m8dO/m5Ai7lD8zLHXx8dE5CW4Q7CyeJcBY8K4baFonqscU8dMdJedgj9hirjX9SzF0bOmu8BwEQOAWBTYg5gSBBP+oX4OaKM5efs5PtPTqOIjkp5CRkJMRzTgcoZiqvYs/PveWeCOTk61xxnvOdhF5WVO7wvPyBl8Tv5THcyhE6CWf6clgW6ZCeO0uZbMyKZDxmr3bhB9iZx933bXicjDPGo+OOoVqRHxNzOp3g+/UJQ84Zb0AABE5FYDNifggg4zvlOeIUy3qCG5/bThyPDwplstsp0HzUP+sb6Gn3ncW85Exxz/0eAOfaGWvk4ix+OJalv2Z3HF5DfY121uUb3VQqCuKu3p0OfQEu795DWCzm2sZAoN1xOs/tua5aiEyJOYUQ/VULk4HYcBkEQOA4BCDmSliHxSmJhvojK4PCJ+I06/lz3IlGwVN/mEb8uYI595hbdrEkqCWfu2/yx2McoVVs3IUQ5+o/B29ycXOgmFQsM/9wTePjQLwGh9qQ+HkCmwQ9f3GzLuPtwr1rJhjaNdcLClMgfpgTJ5eVX5+rft2Oliv0K2l17PyoQf8FuIFFjRMaLoEACByHAMTcCFYUyEGhNmWjALciN2+32NYfsmuvz9+Vx/pUr+/X76y/oTg5jkGh7rMRRdlfFAz5nXt9Dq/jDDVYBQEQAIHjEYCY1wLNXyrbQ1i4/tJj9j7x42flC3b+LIBOfk9fFuzKM7d9F0DpmfeeC4JRceec+3M83nCDZRAAARA4DgGIeRYlJaQ0+c96Fk11lx8XjwpREx/52WOxQfbSgkP+1vx+JxGUOwlyv1hKvvmYfDZr1VYNn/refF7HGWqwCgIgAALHI3BVYv7+/m7/ZyCTQlALAz6LEF/qK/UR/IAACIDA1ghclZj/+vUrQNCxIBlaiFDfoD6CHxAAARDYGoGrEvOtNQ7iBQEQAAEQAIEeAhDzHkooAwIgAAIgAAIrJgAxX3HjIDQQAAEQAAEQ6CEAMe+hhDIgAAIgAAIgsGICEPMVNw5CAwEQAAEQAIEeAhDzHkooAwIgAAIgAAIrJgAxX3HjIDQQAAEQAAEQ6CEAMe+hhDIgAAIgAAIgsGICEPMVNw5CAwEQAAEQAIEeAhDzHkooAwIgAAIgAAIrJgAxX3HjIDQQAAEQAAEQ6CEAMe+hhDIgAAIgAAIgsGICVyXm+B+t4H+yMvQ/WaHr+B+trHimQmggAAKjBK5KzPF/TIOYj4m5CProiMFNEAABEFghgasS86mJHPch9tQH8AMCIAACWyMAMX+DgGERY/vA1gYx4gUBEAABiLkn5n/dhZsvT2GdIvcjfP3tY/j6txWg88b6FO5u7sKTx/Ls1+bz2ndaeP1+G3a72/D4M1riz58ewyt/fA4Pu114eNnXy371bUz72UJtEACB8xOAmNdiQ0J+44klCdZNuJF/RxH7ysfNTbj7yxFtjnFP8fz7a/gouQz5qdm4n2PMH7/9sIufyr7P1MnN9TFc7se3j6VN3HZ7C28zeR16WFrhhJgfmi/sgQAIhAAxN+IRhckT0KcvWlgHBMzYGhag7l30iAhRPDe/fQ0/lvisFywsvN4CZjoHjqNjYcOiuzTeoRwpbmUzCru/yJnD69ATA8T80ERhDwRAoCawGTH//Plz+PDhA/+j90t+pkR0juDMKTvld/D+qMgOLzwG7bEoUr1WuDmfDlE2tkfjqxYCIwsTY3NIuLuujzEZu2djbfrWy0PY5WNyuvsaHj/twu7+uRTVZej97iHI3X4xj3bNETzbKkf24luXYfu7Xdilf7ff44F+DC7avP3+HGNOx/82phDEhrZbksM7EACBtRPYhJiTeMtEJa9LBH1cNOjZqt592wm+rnsKMZ/y0bsr1rEPina1y9V1ht4P2nKEd0msQ36Hr48Ldm8M7aClo3EtqPGoXAs8i6GI+2IxT6IqdmjZwM/f9TN2G8vz/a5aaMTYiqCnhYeJP9mVBUqzYGgJ4AoIgMC6CWxCzGlHLiIur3Rt7s+wCLyFtzm7zLcoGs1zYkfERn165TkOeTbvHxlnm7TbVcfM+bpnN10jQYuPEWIO8TsA5Ocp3M2yFRc/owx4N55ymWV7fCE1lCcvLsa+iNfJq+1XsrtNO14Sv/sHJfDVjnoPMQ+mLtm9DQ/3t+UUgO6LCP98DLeVSHPsuox3iiCLBLLDNvRioc0eV0AABNZPAGIuwjfjGJh3eGOiITb3fU3C7j3DZ0GbEXMUQBLwuECgHFiI84683BsSS3s9LgYGY6tz51jb431rc5mIs43EanpxMbFAGvg9c73zpt0wHUfLawi0Gy7H6laQq10wlx0TT7XzJqEVwU0CTnHkXbcRfjXZsEBLPNVCJBXjfD7dhtsVfLNeRY63IAACCwlsQsxPcszeKYxRyI8oSpUIsr+hZ9mdMRfBlN03CXHKgWywfbnXK6gzxfytYydf5V7inohJTjOGOIndTl7uWMoCWYQ7C7zZCYewn5jHRQIJdhFuEXjnBEB26TroHCtdHBHz3W24rZ/9azt4DwIgsBkCmxBzokmCftQvwLEgjIt0PMYdL9MtQCIwE695B+2VI3Gac3wtu3DONe5Q83Nvuef5ca/NFed530no5xgXFV1/F6CTlz96k6C+PIZbeaadds7PerdMlasdc9wF9/+euSwSnu/Lc/p4ClAWEhwji3Ypk+M2i4sRMeeFANncld1+NoI3IAACWyKwGTE/BNRxgZgQJ97VyfPm4Z1iFPx0hO2K4HDdJj72Obx4GN21u77T7juLecmZ4h49onbsca6di4nIxTni5liW/ppdjL93QdPLa6iv8ZfNjPBFodR/IIbr7inmgUWavp0uR+WyQKi+QR/iLj4/Q2fnUZzLt9KnxDwE8ZeP74cA4DoIgMBqCUDMlUgNi1Pa/ak/siJ/PKZ5ZizitOSZelowiO2bURtzj7lpEUF1SFCTCNIfi/kmfzzGEVrFpllo0D3O1V9sRPGWL/KNibWKxfsDOSMxND6kfdwFRj+vwdHKIm13wizw9VH3vmLufWktCcJVm/gAACAASURBVHwR6RKlLDLky6G2TIeYkymOuV0sFC94BwIgsGYCEHMjFnHCn7tDtUI3b7do6/bv2nt3mbV9qtcsQAyD/hjINsfhime/nSjK/qKgjn/p5zm81jxgERsIgAAIeAQg5rWQTRxtT4pJ2l3vtyCYEEL2sWAnTbk6+T19WWiL2e27AIr1e4/KJ/nX7Zlz7s/RGyi4BgIgAAJrJgAxH5r8p74Z3dRbflw8T6DIz5672LTgkOP8/RceJMj9Yin55mPy2awnFjumbebzWvOARWwgAAIg4BG4KjF/f3+3/zMQM+nPEQiUFUG+tFfqI/gBARAAga0RuCox//XrV4CgYyEytAChvkF9BD8gAAIgsDUCVyXmW2scxAsCIAACIAACPQQg5j2UUAYEQAAEQAAEVkwAYr7ixkFoIAACIAACINBDAGLeQwllQAAEQAAEQGDFBCDmK24chAYCIAACIAACPQQg5j2UUAYEQAAEQAAEVkwAYr7ixkFoIAACIAACINBDAGLeQwllQAAEQAAEQGDFBCDmK24chAYCIAACIAACPQQg5j2UUAYEQAAEQAAEVkwAYr7ixkFoIAACIAACINBDAGLeQwllQAAEQAAEQGDFBK5KzPE/WsH/ZGXof7JC1/E/WlnxTIXQQAAERglclZjj/5gGMR8TcxH00RGDmyAAAiCwQgJXJeZTEznuQ+ypD+AHBEAABLZGAGL+BgHDIsb2ga0NYsQLAiAAAhBzT8z/ugs3X57COkXuR/j628fw9W8rQOeN9Snc3dyFJ4/l2a/N57XvtPD6/Tbsdrfh8We0xJ8/PYZX/vgcHna78PCyr5f96tuY9rOF2iAAAucnADGvxYaE/KYVyx/fPoabm5vy77ev4Udd9wCfrZ82DhZtjnFP8fz7a/io8rn7a+nigIT8Jnz89qNZ/Dx9UbyOIvbRt24XN4+ZvA49LK1wQswPzRf2QAAEQoCYGwGO4uAKgilHuz1fwPbaIZPAqkVCFHZftFkoVdlZfusFCwv7wMLB5N0KPsfhnWKQD3V9r3gnYsi5j4j2HP+Hnhgg5ocmCnsgAAI1gc2I+efPn8OHDx/4H71f8pMn/QFxYPHsFMhBERuwPeXbvz+2uBi714pusU/1WuHm3JX4lvIjtuYsAuaUXcpw1Ec/r6ZvvTyEXT4mp7uv4fHTLuzun0tRXYbe7x6C3O0X82jXHMGzrXJkL751Gba/24Vd+nf7PR7ox+CizdvvzzHmdPxvYwpBbGi7JTm8AwEQWDuBTYg5ibdMVPK6RNDHBSrutqd35SRu/cIw7nNEKFnQxv0sWVAMijYJYedCRnIatOWJ8ajQTnHouz+1GOvl1Q5aOhrXghqPyrXAsxiKuC8W8ySqYoeWDfz8XT9jt7E83++qhUaMrQh6WniY+JNdWaA0C4aWAK6AAAism8AmxJx25CLi8krX5v6ICLmvHWLDYpCeM3vPiF27nrB1XmNxGnvWTMfKMwWYcogLlrhQiM+b6Sj/KdzNsjXvUQOzm2W/T8DfuN3k2bz/SCK3Syevtl/J7jbteEn87h+UwFc76j3EPJi6ZPc2PNzfllMAui8i/PMx3FYizbHrMt4pgiwSyA7b0IuFNntcAQEQWD8BiLkI68jz1iwGUvbtLRxNnMRHEqnRRcPMmOOJQhQ8ip9tkx8WWRL3CTGU2Ph1/NTAMOM4ZRHRKdLGV2edxGzwdKWTlzds9c6bdsN0HC2vIdBuuByrW0GudsFcdkw81c6bhFYENwk4xZF33Ub4VdQs0BJPtRBJxTifT7fhdgXfrFeR4y0IgMBCApsQ85Mcs3dO9FmkWDjaZ8/5/hIxkjpJlPQXyFy7c2POu28S4hQ72eBn5XN35p1izjEe4cuCwqp65UXW0LP/Tl7uWMoCWYQ7C7zZCYewn5jHRQIJdhFuEXjnBEB26TroHCtdHBHz3W24rZ/9azt4DwIgsBkCmxBzokmCftQvwM0VZy4/ZyfbubtMz+MnhZxEjMRpztE1xUzlVez5ubfcq8TRXURwmY5jdvZzOiGnWPOJg5dHJy9/9CZBfXkMt/JMO+2cn/VumSpXO+a4C+7/PXNZJDzfl+f08RSgLCQ4RhbtUibHbRYXI2LOCwGyuSu7/WwEb0AABLZEYDNifgiow8JEQtshTlkgYllPcONz7qUClux2CvToLjTHqhcRafedxbzkTHGPHuk79jjXwVjjzt1jZNohCf6sRYkTC9vknffwaUkvr6G+xl82M8IXhVL/gRiuu6eYBxZp+na6HJXLAqH6Bn2Iu/j8DJ2dR3Eu30qfEvMQxF8+vh8CgOsgAAKrJQAxV8IwLE5JZNUfWRkUPhGnWc+fo+DKQkD/ERR+7wpm5zG3yq88My/53H2TPx6z4JSBc/XFk4VT8co5NUfgKpa5f7iGxVu+/EavYzn08xocrSzSdifMAl8fde8r5t6X1pLAF5EuUcoiQ74cast0iDmZ4pjbxULxgncgAAJrJgAxb8Ru6a5adsBJnFwBljL7v/buMs0uOB1DD35BzLDoi5Hj2DPXuIjxFwV1/Es/z+G15gGL2EAABEDAIwAxrwVs4qh2UkzSbnFw5177W/KZfYztQkeE2Mnv6ctCWxx73PEuzzcdx++5IBhtl5m8vIGCayAAAiCwZgIQc09MafJvjoNHBJJt7HFc7MUweI387LmLZXErx9PLhViYkCDPXxDkxwqzWYvfntf5vNY8YBEbCIAACHgErkrM39/fm/8ZyOiOblBQe0QEZbbIlvoIfkAABEBgawSuSsx//foVIOhYZAwtMqhvUB/BDwiAAAhsjcBVifnWGgfxggAIgAAIgEAPAYh5DyWUAQEQAAEQAIEVE4CYr7hxEBoIgAAIgAAI9BCAmPdQQhkQAAEQAAEQWDEBiPmKGwehgQAIgAAIgEAPAYh5DyWUAQEQAAEQAIEVE4CYr7hxEBoIgAAIgAAI9BCAmPdQQhkQAAEQAAEQWDEBiPmKGwehgQAIgAAIgEAPAYh5DyWUAQEQAAEQAIEVE4CYr7hxEBoIgAAIgAAI9BCAmPdQQhkQAAEQAAEQWDEBiPmKGwehgQAIgAAIgEAPAYh5DyWUAQEQAAEQAIEVE4CYr7hxEBoIgAAIgAAI9BCAmPdQQhkQAAEQAAEQWDEBiPmKGwehgQAIgAAIgEAPAYh5DyWUAQEQAAEQAIEVE4CYr7hxEBoIgAAIgAAI9BCAmPdQQhkQAAEQAAEQWDEBiPmKGwehgQAIgAAIgEAPAYh5DyWUAQEQAAEQAIEVE4CYr7hxEBoIgAAIgAAI9BCAmPdQQhkQAAEQAAEQWDGBDYr5a3j8tAu7nfx7CM+dgJ/vpU77evv9NYQQbcf3nUZXWew5POx24eFlJLifj+F2twvbz3UkxxA57O57e4i19fr9Nuw+PQbqGef56WjHAwZ2/nz3S4bj53mhf07Yes77ERuoneaG3e42PP6MZfLcuXAsDXg6yuUtxXpIAJsTcxp8WqSWDkZq8FbILlXMY16a2yE70eltnSafpX1rGQ8vJ4h5N8uXh7DbTYg4lakWZ6dt4+5sSkER1iruUuAI78QnxPwIcI9ncnNi3qKgCa+sINv7/hWIuc9lG1c94Tt85Ked6L2cIObdreoIdVPXKXPaNm4imrzA8dFpw5nFfDJQFDg7AYi5aYI4odKOPR/VuEfRsVw+6h8daGLzOT0eUAuPvAKOx/72pGDIhzfBx7Jl563KVD7K0ZkqQwxkZ2PKOzsdLiePKR7CszNBGqRiV9fjozqbX4k91dbldRuY+CgO4Sn5xNe4SxP28aCc21S3VbLV+E4h5Ilex6LrZ27Coz3tyZMxH/9KrIZQCJM5zWM1lI94HYqpK986VnPsKm1g47X9mqKw93uEysZsOdf3vMcqejzzuE1xd+UcgpkPJk8AKMWaU+6nqRVyn1JjrLrWxKzHQROTfayW694/p9gH+h6HI2Mm9uOH7/ERXBlbKn/NTRYZOe5diOxt+7b90d7XfoI8GuPHhLactWNjpjaV+zr3RJto8aPHPGer8rFMuf/wssDvxFxS4jjeu+2LOXckNSA6WVGDj00y0jGiyOmBEBta1+XOYyY1HYR0DG1DBru+FjuT+K1tPn+XZ7e2XPQUfUhd6bjlc32falV2ZEBmsUpx67y4TBvz6GQsdsWOmuQkvjgZ2zZ8vlefuY72O5yPnWhjudJWNme/D5S2yyIhsSdmxR5NciNx1n3z5TE/gyxe5N1YTiX3hlXto2El9tNrXV7F1JPv6/cHlYPlKX3Km5wLs7pNklBkxlW8Ilq5X9L96LfYTItRU6a1w2O5KtOTcz0WuU5lx3iTPs8LuLLQ04IT5xW6p/pPrhevsd/KhuTs3dP22/ulD5lY64WV8VfqZHupnTI3U97mWoRT5TjoT3zFti11tU2x45eR+aSOtV1YFZvCU/rUcr/1WLCUT/Fp22K+x2qIGrw0pKCOE41d2VeTDw24eiBzHNLRxJa8ejbjBFb75wGSBosfH9n0Ok30IZ25LVPfd+zwRCIDKsVucq04SHqmjFxUr2zXsuHBZiZvyqnyrUzITq7kN5yPZerELPGOtll0HicsG/v4RF7FJb5MLkMfqrpcLLa1zUm3v1fH71vZ60hM8/OtfXnxhmCYef7H2oLvOX2jtlN/zgmrN06ZyZzd2Mb6a2wTFoXcx9U1mTsoFhZC1b+cazG+6pidYyJBKlxyOTV/RPuljCJR3mafpVy2pezXAtmWiW3PPpsci21vESO2Yz9XdoRfHaOTf0koLQ6Jbc1C4pIFouG/v18dwzneb1fMUwOXCX4ePl8s46Czk6e9VjpxWd2NDxpbP0apBne9spUOlzuwGuxcOXY6m3e0V67VZer7ZKgqw/4qX+ZaVV5wUxmJWa7pV2Mj3mjZk2014LlYy6jk15GPsuG1J7VZsacDLu+5ravc2mtjcUZmPb7aBQvF4THX14r92AdVn5SJsKST3pU6df5tbpUQi4Xqt0IKXx2bcqz6yOzx4/QftlyLrPKhPNu3TpnJnNm/4qrGa80vOhO+VX/OdtIYqz9TZeda5qX7YS7nxJXKiUCKoFkQ5ZNrP/U7vVio7bX1yjjI/cER3VxPccx9l/us8NPjs75WPktd3RY21hKXLlN269JOxWYpV18rnz2/hep53m1SzGOHqIRnJr9WUMhAbPjcGdmmvca+9cCa9Gvrx+LeNd9Q7vx5co4dqnQ4qhftlWt1mfo+1anK8ARRMTXXqLx0fBUrlRnjYWzEei37ynaaBEo71PHXn5182FUsV+wU/zQYC694vf6v19bm2mScyWKe1Cq+xmFvTrrd9HtjbPqDE5PJLVmw16I/LRC2LQfiUX3E2psO0zsa51ocv+KpfAxadcp48ZhrTv8dtE83MtdqrLAdEt8Uc/2Z6jrXOBYSPjXG8jWx5QRkBc0pkC655Zwc6nI5hhxX7L80rvJ4G7OT69WxpT5mxqd3Te3A08JA/NpY/bptO3nlvGvDfutMTv15e2JOHX6wI/TjowaXxi+1vMm/usYDTk0ipfLAu6p+KsUdLgv0QNV8mTqVTA7RnhWi2OnKtfpzRx0vL3PNz8NMfDle9cbYiNdb9jq/tBs0bOr4689kt86ZrjkxUzzUf+RVhVq/9XLT1/j9aJzWYpu3vt+bk87TyU+b7HivY9K5SVVzzWGm6/ttULWn0x/El/vKgiB9X5WoY6k/q6L5rVPG5JcKmmtD/rPR+k1sE9655b7hXMtCVxaVxDLu+Mr8wrFUYl5E385h+vsM2VaOoY4zfs728/yS2osFsnCv7eV6eS4uOeZ5NedY7OR6RqxJICXn2L/tYtu7VvKpYxv8nGNVgpyveT68a8N+y53zvNuYmMcOU0SrhcadJTdQe1+uUIPnTicXvcm/uZY6rRkkz+HBfM4GfUGh26mjm1xeHtJu8TU83ssX3qRsGRDcWVWO0nmLrdgJy+cYs823KuNNstW1OBBl0ElcdtegM+f3lQ261rKnWEp+cbIqfmQCmJUPO6/z1jnX95rI7bPedNv0ryq3Ok49uboLC+PSi0fHK4WraxyDYkc9znxJTerFV3vP+jS5pWrmWi1s7FuPoxhb3n2SjbpOGk96d8+LgMHxkyZe1d/dRQPFYsrYvPlT1V50zeSXqtTX6vHGbanHZ+0qcYnCLAJNr7qdhJW+L+9L39fCTfbiGI7tNmZf5gTLuQ5U2kf81q8l3toeMzKLjBJTnmccMZe2a2OXnAuXMt6ra9mujVf81rHKXNv6LAspHdcyvzHGUtdhfeRLmxRzr1Gk09YDcYgfNbg0filjJ7d43btWOleMpXT6YkveefXTvXrQq8kod8hqhRxrWv/yqxSlIzkdK/uSWKsyzkRXiyr5zoNYBjLVU3FL1vnVsduyp1gkrpRh3qVQO8Vf6yv56SNJqVflw2Y0+/he+gnfTpOCsZsDnzHRcxs5cWbmcdJp+5tyRm9z+bGc2jxNm1AsI8JYfLQxeWOnvmZ8pV97KnlJbPFVxmnL1963IlcxSR/teNCTcCow1Q+5WOoDilGdHxVrr6l6qa3bnFIc8pLbUgRHxEoK6PZOC+Jcx5bVuRfWaneZYtLtnuuM9QUJxYjjbXh8mfmraWynMMoxZrvSn8VhKSt9JNfJz+t1G5f+wtyzXWFr53I396ZOHVPlg0OtrjU2tN9YdrJfCIIjvG5MzI9AACb3IsATX8+EsZcXVN4GgfNPaNvghChB4PAEIOaHZ3o9FtNK9Zyr0euBvYVMIeZbaCXEeJkEIOaX2a5HycocsfLRXn1UdRS3MLoZAhDzzTQVAr04AhDzi2tSJAQCIAACIHBtBCDm19biyBcEQAAEQODiCEDML65JkRAIgAAIgMC1EYCYX1uLI18QAAEQAIGLIwAxv7gmRUIgAAIgAALXRgBifm0tjnxBAARAAAQujgDE/OKaFAmBAAiAAAhcGwGI+bW1OPIFARAAARC4OAIQ84trUiQEAiAAAiBwbQQg5tfW4sgXBEAABEDg4ghAzC+uSZEQCIAACIDAtRGAmF9biyNfEAABEACBiyMAMb+4JkVCIAACIAAC10YAYn5tLY58QQAEQAAELo4AxPzimhQJgQAIgAAIXBsBiPm1tTjyBQEQAAEQuDgCEPOLa1IkBAIgAAIgcG0EIObX1uLIFwRAAARA4OIIQMwvrkmREAiAAAiAwLURgJhfW4sjXxAAARAAgYsjADG/uCZFQiAAAiAAAtdGAGJ+bS2OfEEABEAABC6OwFWJ+a9fv8L7+3t4e3vDPzBo+gD1Deojp/i5tr54SranaD/4AIG1EbgqMYeQYxEztZCjPnKKn2vsi6die4r2gw8QWBuBqxLzqYkc9yH21AdO8XOtfe0UbOEDBK6RAMQcx83NcfO1Co3kfYqJQHxd2+sp2MIHCFwjAYi5J+Z/3YWbL08rFbkf4etvH8PXv9e0i34Kdzd34cljefZr83mdYiLoF3GwPUV7wAcIbJ0AxLwWGxLyG08saVK9CTfy7yhiX/m4uQl3fzmizTHuKZ5/fw0fJZchPzUb93OM+eO3H3bxU9n3mTq5uT6Gy/349rG0idtub+FtJq9TDOo+MR9g+/YWnr6ovnikhdRW2Z6i/eADBNZGAGJuxCNOnp6A0uRZrg9Psn2T9LA4mfojIsST+W9fww8T/xy7asHCwqs+z7DJcXQsbFgYlsY7FA/FrWxG8fEXOXN4nWKQmnYeyG+QLfULxXxObj1+ucyG2Z6i/eADBNZGYDNi/vnz5/Dhwwf+R++X/ExNZHMEZ07ZKb+D90dFdnjhMWiPRYPqtcLN+SiBGLeRFg2j8VULi5GFSZevAcGzdceYjN2zsc7tW6/fb8PDy7xaNm7rn+/NYTunbBdHJ563MX5j96yteZRQGgRAoJfAJsScxHu325l/SwR9fAKlZ6t6920nobruKcR8ysfgzm1kwh4UbRIEtcut8/U+D9py/C+J1fM5fm1cVHpj6B08utzzPfXP2/D4U18dfj+ex1uYw/bt7GKejv07FoPDRHAHBEBgHwKbEHPakddiTtfm/oxOoLMmxCgazXNiR8RGfXrlOQ55HuofGWebtNudKcAkaPFxQcwhfgeA/DyFu1m24uJnlAHvxlMus2yPL6Ry/hU/FsCx58edvOb2q1L+NTx+IlF/CM/lovtuKId4vYOtyp0XKUfme362LkZcBAEQSAQg5jIpzjgG5slzTDTE5r6vSdjLs/pK5GbEHEWCBDwuECgHFmLywUJQ7o0LjcQQFwODsdW5c6zt8X6fL/E58ppYTS8uJhZIA79nHnfe5XRo/Fj9OTzQSdKnx/A6MNWM5z2DLXOVBdoIn7o95nw+MtsBRLgMAiAwg8AmxPwkx+ydwhiF/IiiVE2y7G/o+LIz5iIcsvsmsUg5kA22L/d6BWGG4HBO83abJeaOeJLY6C+FufU7ec0YP01Ren5Op0i334dkPFZx48tt38mW80mLsly3g9ecsiti28DGBRAAgUxgE2JO0ZKgH/ULcDxpjYt0PGocLzM+Sc+faPMO2puAaTKfc7xKOVJ5zjXuUPOzWbnn+XGvzRXnWL57J+/69PhF4ZsUcrLXySuPjhlvZOc+JeJicryfdLDlNjyykKcvvZ2brTDDKwiAwDCBzYj5cAr9d/aaQNMuaEqMouAfaJJln8OLh9FduyuGafedxbyIBsU9ekTt2ONcOxcTkYtzxJ1EadaiJMcS4++t28urv0fFkrQb7xVxsT3eF9MX4AbZdi5gLoCt8MIrCIDAOAGIeRaGsQk0TZ7qj6zIH49pxF0m0CXP1NOCQWzfjNroPIpV+b3xTosENYkg/bGYb/LHYxyhNXWdXTHn6i82ZFGTcxkUJhWL9wdyRmJofEj7uL76eY0PmcPcnRLzsW+o86JEctWvzeOY62R7mBaCFRDYFgGIuRGLOOHP3aHaiXnebtHWdQTTxFfu9+4ya/tUr1mADPio63qfOQ5XPEusXj19LYqyvyjQ5fZ5P4fXKYZwTy5ge4qWgA8QuAwCEPNayCaOticn4bS73m9BMCGE7GPBTppydfJ7+rLQFrPbdwEU6/celU/yr9sz59yf4ymGdl8eYHuKtoAPELgEAhDzocm/ObKcEFh9dD3zuLhvYhf/tPPfcxebFhxyBL7/woNEp18sJd98TD6btbDoeZ3P6xQDWxhMv4LtKdoDPkBg6wQg5p6Y45r9n6ZcGY9TDOppEe9ZqGyvzCnYwgcIXCOBqxLz9/f3qxapaxWQOXlTHznFzzX2xVOxPUX7wQcIrI3AVYn5r1+/wjVOonPE7JrLUt+gPnKKn2vri6dke4r2gw8QWBuBqxLztcFHPCAAAiAAAiBwCAIQ80NQhA0QAAEQAAEQOCMBiPkZ4cM1CIAACIAACByCAMT8EBRhAwRAAARAAATOSABifkb4cA0CIAACIAAChyAAMT8ERdgAARAAARAAgTMSgJifET5cgwAIgAAIgMAhCEDMD0ERNkAABEAABEDgjAQg5meED9cgAAIgAAIgcAgCEPNDUIQNEAABEAABEDgjAYj5GeHDNQiAAAiAAAgcggDE/BAUYQMEQAAEQAAEzkjgqsT82v7nFtf8P01Zkvsp/2cg19YXT8n2jPMpXIPA2QhclZjThLJkkked7f1/s5e2GfWRU/xcY188FdtTtB98gMDaCFyVmC+d4FHvesSc2voUP9fap07BFj5A4BoJQMzfrkuorlVE5uR9iolgTjyXVPYUbOEDBK6RAMTcE/O/7sLNl6eVHsn/CF9/+xi+/r2mRchTuLu5C08ey7Nfm8/rFBNBv0CD7SnaAz5AYOsEIOa12JCQ37Ri+ePbx3Bzc1P+/fY1/KjrHuCz9dPGwSLAMe4pnn9/DR9VPnd/LV0ckNjchI/ffjSLn6cvitdRxD761u3i5jGT1ykGdZ+YD7Ct2s7rr332x9p8u2xP0X7wAQJrIwAxNwIcJzBXEEw52u35ArbXJEqTtFokRGH3RZuFUpWd5bdesLA4DCwcTN7t5M9xeKcY5ENd3yveiRhy7iOiPcf/KQZpjnkkt0G2VR3uJ0v7QmVrMK4NsT1F+8EHCKyNwGbE/PPnz+HDhw/8j94v+RmcqNKENmdS7J1op3yO3x9bXIzda0W3+KF6rXBz7kp8S/kRW3MWAXPK9gpMXW7URz+vuX3r9ftteHiZV2uS72guVZuMCO2kn5rh0OfReI7Hdh5VlAaB6yWwCTEn8d7tdubfEkEfn9jibnt6V04Taf/kNe6zmpSbiXTcz5IFxaBo02Q9c3c3aKvJ4y28jYrBFIe++1OLsV5eS6aD53vqn7fh8Wdf7al+MYdtb15TPsfun5NtH1GUAoHrJrAJMacdeS3mdG3uz9hk1SM2PGmm58zeM+JR+57ATVzjCXTsWTPtyGYKMOUQFyxxoRCfN9NR/lO4m2Vr3qMGZjfLfp+Ax3aTZ/P+I4ncLp285varUv41PH4iUX8Iz+Wi+y7H5PaBDra8G095H4MrxcULsLWwdTHiIgiAQCIAMZfJdOZR5dHESeJJE+noomFmzPFEIQoexc+2846cxH1CDCU2fh0/NTBilYSn79SjU8RNLKlOYjbop5OXNzvEnXc5HRo/Vn8OD3SS9OkxvHrGQmi+LGh4zT354bzaRyfW5h5cifUR2Q4gwmUQAIEZBDYh5ic5Zu+c6PMEyZPbkSbQNHHqL5Blv1rE5sacd98kxCl2ssHPyufuzDvFnGM8wpcFNQf1nhdZQ8/+O3nNGD9NUXp+TqdIt9+HZDxWcdsz59HJNpfv2MnnsstF/dxsG9i4AAIgkAlsQswpWhL0o34Bbq44c/k5O9neSTRO5JNCTpMzidOcI1aKmcqr2POzWbnXPel3CAj7OZ2Qk0DmEwcvj05eeXTMeCM79ykRF5PjYt7B1uQXyw+eSJiyvf2wLXcutsIMryAAAsMENiPmwyn03zncBBonT09w43PupQKWlcvLGwAAD0hJREFU7HYK9OhOyZ3A0+47i3kRDYp79Ejfsce5DsbauShJgj9rUeLEwm3LO+/h05JeXv09Kpak3XiviIvt8b74FsbZWqGNfc5ZWF4AW+GFVxAAgXECEHMlDMMTaBJZ9UdWBoVPJtBZz5/j5BwnZfnCkXp1BXPuUSz5oDo06Zd87r7JH49xxECxccWHc/XFk4VT8cp/2KU5AlexzP3DNSzeitMo835e40PmMHddnpr3CNumn7j9g9r7OtkepoVgBQS2RQBirifQ9MWjQaE2Ze3uqEzOaQIdnGCH6s273rvLLHFF+1TvkMexHMeeuUZx8hcFdfxLP8/hdYoh3JMH2J6iJeADBC6DAMS8FuiJo9rJSTjtFvdbEEwIO/tYsJOmXJ38nr4stMXs4o53eb6x/kGO2eu2lM8zeZ1iaE/2I7A9RTPABwhcDAGIuUz4+pUm/+Y4eEJg9znS1L4n39POf89dLItbOZ5eLsTCRI7v5XPfaz4uns26z34UzPm8TjG6+8Sc8gTbU7QHfIDA1glclZi/v79P/H7vHJFA2X5B2g4r6iOn+LnGvngqtqdoP/gAgbURuCox//XrV7jGSfQSRfcYOVHfoD5yip9r64unZHuK9oMPEFgbgasS87XBRzwgAAIgAAIgcAgCEPNDUIQNEAABEAABEDgjAYj5GeHDNQiAAAiAAAgcggDE/BAUYQMEQAAEQAAEzkgAYn5G+HANAiAAAiAAAocgADE/BEXYAAEQAAEQAIEzEoCYnxE+XIMACIAACIDAIQhAzA9BETZAAARAAARA4IwEIOZnhA/XIAACIAACIHAIAhDzQ1CEDRAAARAAARA4IwGI+RnhwzUIgAAIgAAIHIIAxPwQFGEDBEAABEAABM5IAGJ+RvhwDQIgAAIgAAKHIAAxPwRF2AABEAABEACBMxKAmJ8RPlyDAAiAAAiAwCEIQMwPQRE2QAAEQAAEQOCMBCDmZ4QP1yAAAiAAAiBwCAJnE/N//vkn1P8OkRBsgAAIgAAIgMC1EYCYX1uLI18QAAEQAIGLIwAxv7gmRUIgAAIgAALXRgBivsIW//XrV3h/fw9vb2+L/1F9soMfEAABEACByycAMV9hG+8r5LIIIDv4AQEQAAEQuHwCEPMVtrGI8SFeV5geQgIBEAABEDgwAYj5gYEewtwhRFxsHCIe2AABEAABEFg3gcsS8//+GX7//ff479//VOT/CX+me3/+t7p1to8U0x/h5T2E//3nj/DHf/7HkYgQH+KVDJLt35kH+fsz1GQkfS6X4pFrs191Gwy2xUyrbHM47pnWZhX/59/Unw7l+3/h5V+/53aeFchKCnMf+ddLiD11eVBddt5fwh+rG7PLc5aah+1TYnW/1572mB931d9Te8o8t1/Ebe2DzF+t2c1cuVwxb0RpHzGPnfL3xua+7bxMzJ++3ISbm/Tvt6/hx8gX5ShC7uQdYr5vNlyfhNdM9olds7ga8laY5BJnFPMcw4I3hbtUriY3ubyh155JvyedaTtxvK5n4T2dVdve03XWUqJpj2YcL4n0mP092t5S/1hCcE6dCxbz3ytR2UPM8w4h7qLnAB4vW4SLBpOsWId35D/C199uws2Xp/wtdxZ29bmuS/7LJEP+DrXLHMjMmwSYX6/fwiR7gJhnFOd+00z6CwOatuP0g4W+TlWtjLNTeTycn6Y9vHE82x3EfDayPSpcqJj/Ef74VzxuF4EMgSaHeK1ezcXjo3Q8T2X0LpKFRN2j+2rnWdfVtvM9ba+jsWpBls8/vn00Qh6vP4W7m4/h69/+r7F1uCtFKtHMA1wzULmXiuqdNwmwmNNCaGBwSx3th9sqLQD4+p/hn7yoovZwFgfmvm0ninBJPrmOpFjFqNtbioQQ88yPfH6Xo/WSf+4b+V6p3dTvYZ76NvnkmDJzbTcE8hvHhMTyDx/9x1jTYlXnWPnOPHSZfdrChhc/1e2o7LN/lWsZ31S1zmlg8S39SefAY9S2W9O2urxpN1uPWPqMYzyZofRJlZ/MUzavAknq/kOPzhKHWLbMb/UJotQxj0YoF9W2uozum+wjzV+6TGH9P+5TEouZO3N7iOcYo+Wq47Zj1sah2rLpH7rfVvNCXVblzD2GONI13bZVmUJ/3e8uVMz/DP/kxpFOUDpN6UztIMydUho021GCnu7Zzlbui/18/yBiPizatDu/++tIYk4TRo4/MhyaaLirV5NEvpYmLDshxMFBnIpN8iFtlgaPtIG0iYhljiuEwGVsPeaf6yQxn5mPibcWyPeX8DLy/Quuq2OUuEVwKb0mbhEkmQCjAJc2SEzkZTCm1k4UCmEkfV8+Jz/EJzNr25tzMgyFq5pEm5yS7WxXLawkj+a17Qd1e7bC1+bUmKUL0p+kbdSEL2M35qlyCpSD+lxzF2EWm+zYj8f0qUrw2j5jMxD+ebxILmrM1Jysv2SP6o21R3Wfalk7kltaPOp8M4NYJseaNlTCuG2/EP75j3wf45/wZ7ZT++ZoeBFabEm7qjZiNqV/Uy2XjenPbZ/n1Dbwn8sVc2m43FCxkUiscwdwBkIe6LpcHuyqYzjXZKANTrydHUJ24ub176/hY3o+zjv09Mz847cfgT4fT8zV4JABrQZZk1IzCVSDo5kE60m7/iyDVLEnp9x2Els9aUhU1lZsH6kTy/C1kXzMBMax2/riyXttbacJ0PirYm/4hRDG/I7cM7FTgMZ25ZfuN22TJlEVL9s0O0mqGNs4jivHLsNx2kKJCRcx/7Hlvdi4uJPT5PgzfSc65Ule5WkXPiaw9CHmmecSd2zEMnU8TbvkNqxydtw2davFAFfJ9qKBtk7dFxyxNFw9O35u4+NS95O2bznplktVTnIyoPmP+xZTlrHXn/ma6QtSd92vFy3mMslEAY8dSYt5bEi986TGSp00H5XJJEc7byUoPCGU3Xje0ZudzbLGNyKevtxGgk3C/UaifnMXnt7eguzI8z3ni3CzIqgmOW8S8K4ZHw4XM+CqyacdOHawse0qrvaanSRKPHbC9WL3rpX69STn9A1duHrf5hbrl50KVbDXuA71oeaf6nvGz0hMRpxjudIW1i+bbCbMdsL1eWnby9vCpMULBJWz1weogonZyckajZ8cWyTmtl2cfqjmBmmfwrNlVbethOIx5MWEnnOkcPXa1tXsU2HDpO7DqQwxUIupxm51n2rZMgOsje+6jO4b9b0qUfrItvRY0AtpJ2/TrtqXtm3r2ZxiOe+atrDW9xcu5rKD0x2i7MxlANmVc2xsGqx5cOdOVSYXbnCecHUHO0wzD4k57b55V85feKMvw8Vn5UfdmasBT9lNdnRnEmioUBle+dqBFcs5k6gZpMmauebU4WLWvhe7d03H69+PE4VZ3OlK6T3XNSv8GE/uVypGueb7c4w3l/yYqI+z4JhJlio7sTRlWoHy49Ocl7eFTamyM9SvTMxOTtZo/GT6Trw0KeZpDpB2En6HEnPmquccL253/Gn2qZJhMjBmK55Nu1b3ybItM8Da+K7LxD4amTlxq5wjjzLf2kUbRzNxzF71n2zb+rU5xULetVx9xW8uX8zHVtM8qEnoVafxrqWB7JdTos8d/k/+vfF92twTc9mF0yvv0N/KM3S559WbFQfnXhYnXqf2rhkfziRg7vMHGmjyhbbiL5ZzBmEVF5cz1+pJQzxaW17s3jWpTa9j9/meEWtdsxVCEYAiCOzB/u65ycva6/nUxET2/v1PzMPE6jAzE3H0VtvzeWjOjl02pcuMc42ebfk5x+yWr0PNYTwl5jUHacuDiLlwl1cnZLnU8rfixOVqO5TvxKK8sTtZZ6CdTb26DLVptZkyfTJn2Qp1nVOa1zX/xcfsE2wkqrW/XoGYt8c1pQPEziZHZubVdLLYCfN9bvyhumVh4O/8p7uEJ8qy+85i/tdduOHjdhL1eOzu1Zv2pkpUk1wzwCfEjS2ZwaxsV2958vyX/DEbfdMO+Gyzfk5bxRoHcmFP9Zi/ascl+Zg6//2zfN/Csa+zoPemLt+sJzcuZcVcFp8qbn5cZD4rT5MxRVGk3+4o/d7zK+PELq44B+WbP1c7yJrz0rZQWaXn8E57mom37iseX2uVP9V9J7WlXQREbvQHnbw6wkEz7Wvvul/YmBuWyb28DPnQcTS7WBZC1f7psxb4xq7DyJaR+U+30VR7VPfruKgd0hfgLAfxpfum5ea10dJ+aPOsYpaGWOHrdYi5TKzpOaTp+DJ5qmeUdlCnVuPOnY7r1YTCnU7V1Uf2+Z6aDHv6gCfK+bk4i/hNuPnta/ia/nhM3Kkf6dvsKleK3XZ0JxviVNVxSjnf4i6l2Id+hOFMLHYVnurqNqL6FXcvdu9aiaTKVyZBae/Kvq4X38eJoDyycSag1P9snyv14gJST5iVl46YuB82beLEwrb0hJnyV3kKL/2rUW57L2gLmxkxaPPOYyq1gTeWLUtrlT85/Yns2nqtf+37j//EX+mz/ku7RVsO42oMtW0TbdhYSg7Cv/yuQ/Rh4hhqR+m31BeIgeoTQ3a5/6X2t2UkN/2rjTVDKSPRxtzaWNVj0NzXCks+Ef0v/TVA2zfjHKBOVp12LWWSj2w/MrU5edecmEtzrOrdZYn5qtAuD8YTc/7i28Rfe/PqLY/iyDWryeTI3q7afCtUV40DyR+EQC3UBzEKI3sQgJjvAe9YVT1Rfntr//obCfwdfcPd+Ra7XDtWjPvZHd997GcbtQ0B3q20O1xTBh9AYDYBiPlsZEeuADE/MuAl5kWI29ck6PJ32UeelUvdJf6PVydOAOXY+Xiert5yPn6HkF99XzgKAIj5UbDuYRRivge8Y1V9f38f3W2LUE+9kh38gAAIgAAIXD4BiPkK2/jXr19hX0Gn+mQHPyAAAiAAApdPAGJ++W2MDEEABEAABC6cwNnE/MK5Ij0QAAEQAAEQOBkBiPnJUMMRCIAACIAACByHAMT8OFxhFQRAAARAAARORgBifjLUcAQCIAACIAACxyEAMT8OV1gFARAAARAAgZMRgJifDDUcgQAIgAAIgMBxCEDMj8MVVkEABEAABEDgZAQg5idDDUcgAAIgAAIgcBwCEPPjcIVVEAABEAABEDgZAYj5yVDDEQiAAAiAAAgchwDE/DhcYRUEQAAEQAAETkYAYn4y1HAEAiAAAiAAAschADE/DldYBQEQAAEQAIGTEYCYnww1HIEACIAACIDAcQhAzI/DFVZBAARAAARA4GQE/h8ExtM0Y8mDZgAAAABJRU5ErkJggg==)"
      ],
      "metadata": {
        "id": "5UN-V7IMPHXS"
      }
    },
    {
      "cell_type": "code",
      "source": [
        "matrix_a, matrix_b"
      ],
      "metadata": {
        "colab": {
          "base_uri": "https://localhost:8080/"
        },
        "id": "ILycP7AOPPjA",
        "outputId": "49d76ece-efe1-4116-c64e-7628dcc76a1c"
      },
      "execution_count": 119,
      "outputs": [
        {
          "output_type": "execute_result",
          "data": {
            "text/plain": [
              "(tensor([[1, 2],\n",
              "         [3, 4]]),\n",
              " tensor([[5, 6],\n",
              "         [7, 8]]))"
            ]
          },
          "metadata": {},
          "execution_count": 119
        }
      ]
    },
    {
      "cell_type": "code",
      "source": [
        "matrix_a * matrix_b # element-wise multiplication in matrix"
      ],
      "metadata": {
        "colab": {
          "base_uri": "https://localhost:8080/"
        },
        "id": "XUznAu0jPN0X",
        "outputId": "64e624d9-9384-4c88-a523-f02533cd3898"
      },
      "execution_count": 120,
      "outputs": [
        {
          "output_type": "execute_result",
          "data": {
            "text/plain": [
              "tensor([[ 5, 12],\n",
              "        [21, 32]])"
            ]
          },
          "metadata": {},
          "execution_count": 120
        }
      ]
    },
    {
      "cell_type": "code",
      "source": [
        "matrix_a @ matrix_b # add is used for matric multiplication"
      ],
      "metadata": {
        "colab": {
          "base_uri": "https://localhost:8080/"
        },
        "id": "VDmVscpjO7W_",
        "outputId": "3d66c8bc-032a-488e-a8ad-c37fe895bec8"
      },
      "execution_count": 121,
      "outputs": [
        {
          "output_type": "execute_result",
          "data": {
            "text/plain": [
              "tensor([[19, 22],\n",
              "        [43, 50]])"
            ]
          },
          "metadata": {},
          "execution_count": 121
        }
      ]
    },
    {
      "cell_type": "code",
      "source": [
        "torch.mm(matrix_a,matrix_b)"
      ],
      "metadata": {
        "colab": {
          "base_uri": "https://localhost:8080/"
        },
        "id": "XQb8FvumS6Sd",
        "outputId": "d453f9ac-daca-4b39-82b7-41b0929f3b66"
      },
      "execution_count": 122,
      "outputs": [
        {
          "output_type": "execute_result",
          "data": {
            "text/plain": [
              "tensor([[19, 22],\n",
              "        [43, 50]])"
            ]
          },
          "metadata": {},
          "execution_count": 122
        }
      ]
    },
    {
      "cell_type": "code",
      "source": [
        "torch.matmul(matrix_a,matrix_b)"
      ],
      "metadata": {
        "colab": {
          "base_uri": "https://localhost:8080/"
        },
        "id": "lVIkPGioPouI",
        "outputId": "3c754337-59b0-4d48-bcba-313b709ffb6a"
      },
      "execution_count": 123,
      "outputs": [
        {
          "output_type": "execute_result",
          "data": {
            "text/plain": [
              "tensor([[19, 22],\n",
              "        [43, 50]])"
            ]
          },
          "metadata": {},
          "execution_count": 123
        }
      ]
    },
    {
      "cell_type": "markdown",
      "source": [
        "# **8.6 one of the most common errors in deep learning (shape errors )**"
      ],
      "metadata": {
        "id": "WJoIokIXQQGf"
      }
    },
    {
      "cell_type": "markdown",
      "source": [
        "Because much of deep learning is multiplying and performing operations on matrices and matrices have a strict rule about what shapes and sizes can be combined, one of the most common errors you'll run into in deep learning is shape mismatches."
      ],
      "metadata": {
        "id": "a59R5fEKQmQv"
      }
    },
    {
      "cell_type": "code",
      "source": [
        "tensor_A=torch.tensor([[1,2],\n",
        "                       [3,4],\n",
        "                       [5,6]],dtype=torch.float32)\n",
        "tensor_B=torch.tensor([[7,10],\n",
        "                       [8,11],\n",
        "                       [9,12]],dtype=torch.float32)\n",
        "\n",
        "torch.matmul(tensor_A,tensor_B) # this will give error"
      ],
      "metadata": {
        "colab": {
          "base_uri": "https://localhost:8080/",
          "height": 183
        },
        "id": "o-R2iZGbPiLf",
        "outputId": "4aa3e0a8-113d-414a-e5ad-84f2798575bb"
      },
      "execution_count": 125,
      "outputs": [
        {
          "output_type": "error",
          "ename": "RuntimeError",
          "evalue": "mat1 and mat2 shapes cannot be multiplied (3x2 and 3x2)",
          "traceback": [
            "\u001b[0;31m---------------------------------------------------------------------------\u001b[0m",
            "\u001b[0;31mRuntimeError\u001b[0m                              Traceback (most recent call last)",
            "\u001b[0;32m<ipython-input-125-ad1a39dc9e20>\u001b[0m in \u001b[0;36m<cell line: 8>\u001b[0;34m()\u001b[0m\n\u001b[1;32m      6\u001b[0m                        [9,12]],dtype=torch.float32)\n\u001b[1;32m      7\u001b[0m \u001b[0;34m\u001b[0m\u001b[0m\n\u001b[0;32m----> 8\u001b[0;31m \u001b[0mtorch\u001b[0m\u001b[0;34m.\u001b[0m\u001b[0mmatmul\u001b[0m\u001b[0;34m(\u001b[0m\u001b[0mtensor_A\u001b[0m\u001b[0;34m,\u001b[0m\u001b[0mtensor_B\u001b[0m\u001b[0;34m)\u001b[0m \u001b[0;31m# this will give error\u001b[0m\u001b[0;34m\u001b[0m\u001b[0;34m\u001b[0m\u001b[0m\n\u001b[0m",
            "\u001b[0;31mRuntimeError\u001b[0m: mat1 and mat2 shapes cannot be multiplied (3x2 and 3x2)"
          ]
        }
      ]
    },
    {
      "cell_type": "markdown",
      "source": [
        "**inner shape must be same**"
      ],
      "metadata": {
        "id": "vzbF2ahzRpBY"
      }
    },
    {
      "cell_type": "code",
      "source": [
        "tensor_A.shape,tensor_B.shape # here e can see different inner shape"
      ],
      "metadata": {
        "colab": {
          "base_uri": "https://localhost:8080/"
        },
        "id": "iykUeeZ2RQJu",
        "outputId": "b4bd0307-9469-4268-9ee4-8b7904f44fd3"
      },
      "execution_count": 126,
      "outputs": [
        {
          "output_type": "execute_result",
          "data": {
            "text/plain": [
              "(torch.Size([3, 2]), torch.Size([3, 2]))"
            ]
          },
          "metadata": {},
          "execution_count": 126
        }
      ]
    },
    {
      "cell_type": "code",
      "source": [
        "print(tensor_A)\n",
        "print(tensor_B)"
      ],
      "metadata": {
        "colab": {
          "base_uri": "https://localhost:8080/"
        },
        "id": "yqzq8pFoRhTV",
        "outputId": "09f333f0-0f28-4178-cd4a-b033044579e4"
      },
      "execution_count": 127,
      "outputs": [
        {
          "output_type": "stream",
          "name": "stdout",
          "text": [
            "tensor([[1., 2.],\n",
            "        [3., 4.],\n",
            "        [5., 6.]])\n",
            "tensor([[ 7., 10.],\n",
            "        [ 8., 11.],\n",
            "        [ 9., 12.]])\n"
          ]
        }
      ]
    },
    {
      "cell_type": "markdown",
      "source": [
        "**Transpose**"
      ],
      "metadata": {
        "id": "-rZkwyNhR_ve"
      }
    },
    {
      "cell_type": "code",
      "source": [
        "tensor_B.T # taking transpose of tensor_B (rows convert into columns and columns convert in rows )"
      ],
      "metadata": {
        "colab": {
          "base_uri": "https://localhost:8080/"
        },
        "id": "p-93uu9-R4pd",
        "outputId": "6e0aab57-ab5f-4ae9-93ff-92f86a2c5da1"
      },
      "execution_count": 128,
      "outputs": [
        {
          "output_type": "execute_result",
          "data": {
            "text/plain": [
              "tensor([[ 7.,  8.,  9.],\n",
              "        [10., 11., 12.]])"
            ]
          },
          "metadata": {},
          "execution_count": 128
        }
      ]
    },
    {
      "cell_type": "code",
      "source": [
        "print(tensor_A)\n",
        "print(tensor_B.T)"
      ],
      "metadata": {
        "colab": {
          "base_uri": "https://localhost:8080/"
        },
        "id": "2q0achnoSIz1",
        "outputId": "67ff9ff5-970a-41ae-c188-2808317a0b85"
      },
      "execution_count": 129,
      "outputs": [
        {
          "output_type": "stream",
          "name": "stdout",
          "text": [
            "tensor([[1., 2.],\n",
            "        [3., 4.],\n",
            "        [5., 6.]])\n",
            "tensor([[ 7.,  8.,  9.],\n",
            "        [10., 11., 12.]])\n"
          ]
        }
      ]
    },
    {
      "cell_type": "code",
      "source": [
        "tensor_A.shape , tensor_B.T.shape # now same inner shape"
      ],
      "metadata": {
        "colab": {
          "base_uri": "https://localhost:8080/"
        },
        "id": "7-6DpuY4SStF",
        "outputId": "96c66945-2ed9-4421-df41-fdf6b99caa69"
      },
      "execution_count": 130,
      "outputs": [
        {
          "output_type": "execute_result",
          "data": {
            "text/plain": [
              "(torch.Size([3, 2]), torch.Size([2, 3]))"
            ]
          },
          "metadata": {},
          "execution_count": 130
        }
      ]
    },
    {
      "cell_type": "code",
      "source": [
        "torch.matmul(tensor_A,tensor_B.T) #now matrix multiplied"
      ],
      "metadata": {
        "colab": {
          "base_uri": "https://localhost:8080/"
        },
        "id": "qJkuS0E-SeAk",
        "outputId": "c3d8dfe1-edb2-45e4-85cd-fd53de2dc1b5"
      },
      "execution_count": 131,
      "outputs": [
        {
          "output_type": "execute_result",
          "data": {
            "text/plain": [
              "tensor([[ 27.,  30.,  33.],\n",
              "        [ 61.,  68.,  75.],\n",
              "        [ 95., 106., 117.]])"
            ]
          },
          "metadata": {},
          "execution_count": 131
        }
      ]
    },
    {
      "cell_type": "markdown",
      "source": [
        "# **9. Finding the min ,max mean ,sum etc (aggregation)**"
      ],
      "metadata": {
        "id": "73whgI8ZTm37"
      }
    },
    {
      "cell_type": "code",
      "source": [
        "x=torch.arange(1,10)\n",
        "x"
      ],
      "metadata": {
        "id": "i7CpxrDOSz5M",
        "colab": {
          "base_uri": "https://localhost:8080/"
        },
        "outputId": "b2d09205-763a-4745-df6f-6490badae0fe"
      },
      "execution_count": 132,
      "outputs": [
        {
          "output_type": "execute_result",
          "data": {
            "text/plain": [
              "tensor([1, 2, 3, 4, 5, 6, 7, 8, 9])"
            ]
          },
          "metadata": {},
          "execution_count": 132
        }
      ]
    },
    {
      "cell_type": "code",
      "source": [
        "x.min()"
      ],
      "metadata": {
        "colab": {
          "base_uri": "https://localhost:8080/"
        },
        "id": "BrXUaF0WcZrx",
        "outputId": "adc6ddf6-3958-47d3-9b9e-3aca9b255396"
      },
      "execution_count": 133,
      "outputs": [
        {
          "output_type": "execute_result",
          "data": {
            "text/plain": [
              "tensor(1)"
            ]
          },
          "metadata": {},
          "execution_count": 133
        }
      ]
    },
    {
      "cell_type": "code",
      "source": [
        "x.max()"
      ],
      "metadata": {
        "colab": {
          "base_uri": "https://localhost:8080/"
        },
        "id": "v0GIoUGscayp",
        "outputId": "82bad032-89c7-4416-d83e-ce785c64e110"
      },
      "execution_count": 134,
      "outputs": [
        {
          "output_type": "execute_result",
          "data": {
            "text/plain": [
              "tensor(9)"
            ]
          },
          "metadata": {},
          "execution_count": 134
        }
      ]
    },
    {
      "cell_type": "code",
      "source": [
        "x.sum()"
      ],
      "metadata": {
        "colab": {
          "base_uri": "https://localhost:8080/"
        },
        "id": "CjIgNpNPcawj",
        "outputId": "b19bc460-dcdb-4b0e-8ce2-169d19ca60df"
      },
      "execution_count": 135,
      "outputs": [
        {
          "output_type": "execute_result",
          "data": {
            "text/plain": [
              "tensor(45)"
            ]
          },
          "metadata": {},
          "execution_count": 135
        }
      ]
    },
    {
      "cell_type": "code",
      "source": [
        "x.mean() #this will give error ,because it works only on floating points"
      ],
      "metadata": {
        "colab": {
          "base_uri": "https://localhost:8080/",
          "height": 147
        },
        "id": "6t0iVKWjcauW",
        "outputId": "0cc679b0-e582-4403-cf8a-6b37a861ace9"
      },
      "execution_count": 137,
      "outputs": [
        {
          "output_type": "error",
          "ename": "RuntimeError",
          "evalue": "mean(): could not infer output dtype. Input dtype must be either a floating point or complex dtype. Got: Long",
          "traceback": [
            "\u001b[0;31m---------------------------------------------------------------------------\u001b[0m",
            "\u001b[0;31mRuntimeError\u001b[0m                              Traceback (most recent call last)",
            "\u001b[0;32m<ipython-input-137-455fe11c23e5>\u001b[0m in \u001b[0;36m<cell line: 1>\u001b[0;34m()\u001b[0m\n\u001b[0;32m----> 1\u001b[0;31m \u001b[0mx\u001b[0m\u001b[0;34m.\u001b[0m\u001b[0mmean\u001b[0m\u001b[0;34m(\u001b[0m\u001b[0;34m)\u001b[0m \u001b[0;31m#this will give error ,because it works only on floating points\u001b[0m\u001b[0;34m\u001b[0m\u001b[0;34m\u001b[0m\u001b[0m\n\u001b[0m",
            "\u001b[0;31mRuntimeError\u001b[0m: mean(): could not infer output dtype. Input dtype must be either a floating point or complex dtype. Got: Long"
          ]
        }
      ]
    },
    {
      "cell_type": "markdown",
      "source": [
        "so first convert datatype into floats"
      ],
      "metadata": {
        "id": "iLCohluic60h"
      }
    },
    {
      "cell_type": "code",
      "source": [
        "x.type(torch.float32).mean()"
      ],
      "metadata": {
        "colab": {
          "base_uri": "https://localhost:8080/"
        },
        "id": "ROYkb9CicasB",
        "outputId": "12d4053d-f0e8-4892-d2be-eea11c20d69e"
      },
      "execution_count": 138,
      "outputs": [
        {
          "output_type": "execute_result",
          "data": {
            "text/plain": [
              "tensor(5.)"
            ]
          },
          "metadata": {},
          "execution_count": 138
        }
      ]
    },
    {
      "cell_type": "markdown",
      "source": [
        "another way for doing upper things"
      ],
      "metadata": {
        "id": "-9sLNmZndcrA"
      }
    },
    {
      "cell_type": "code",
      "source": [
        "torch.min(x),torch.max(x),torch.sum(x),torch.mean(x.type(torch.float32))"
      ],
      "metadata": {
        "colab": {
          "base_uri": "https://localhost:8080/"
        },
        "id": "UT7b6sN6capk",
        "outputId": "3828b909-5b9c-4c89-fe30-d1c73210f7cc"
      },
      "execution_count": 139,
      "outputs": [
        {
          "output_type": "execute_result",
          "data": {
            "text/plain": [
              "(tensor(1), tensor(9), tensor(45), tensor(5.))"
            ]
          },
          "metadata": {},
          "execution_count": 139
        }
      ]
    },
    {
      "cell_type": "markdown",
      "source": [
        "**9.1 Positional min / max**"
      ],
      "metadata": {
        "id": "kXOwjHfkdidP"
      }
    },
    {
      "cell_type": "markdown",
      "source": [
        "index of min and max value"
      ],
      "metadata": {
        "id": "SU_zqUsqdreu"
      }
    },
    {
      "cell_type": "code",
      "source": [
        "tensor=torch.arange(5,10)\n",
        "tensor"
      ],
      "metadata": {
        "colab": {
          "base_uri": "https://localhost:8080/"
        },
        "id": "YKaqYAqdcanQ",
        "outputId": "8f1ec958-0734-4b70-835c-e06ba92a113d"
      },
      "execution_count": 140,
      "outputs": [
        {
          "output_type": "execute_result",
          "data": {
            "text/plain": [
              "tensor([5, 6, 7, 8, 9])"
            ]
          },
          "metadata": {},
          "execution_count": 140
        }
      ]
    },
    {
      "cell_type": "code",
      "source": [
        "tensor.argmax()"
      ],
      "metadata": {
        "colab": {
          "base_uri": "https://localhost:8080/"
        },
        "id": "JnnsCz_bcak4",
        "outputId": "39b02e24-39d3-4e04-f78b-5b0fb4822dda"
      },
      "execution_count": 141,
      "outputs": [
        {
          "output_type": "execute_result",
          "data": {
            "text/plain": [
              "tensor(4)"
            ]
          },
          "metadata": {},
          "execution_count": 141
        }
      ]
    },
    {
      "cell_type": "code",
      "source": [
        "tensor.argmin()"
      ],
      "metadata": {
        "colab": {
          "base_uri": "https://localhost:8080/"
        },
        "id": "kQ5OO2_1d5Mu",
        "outputId": "b1d39ea2-4f38-4ee4-87b5-af43ddf5130e"
      },
      "execution_count": 142,
      "outputs": [
        {
          "output_type": "execute_result",
          "data": {
            "text/plain": [
              "tensor(0)"
            ]
          },
          "metadata": {},
          "execution_count": 142
        }
      ]
    },
    {
      "cell_type": "markdown",
      "source": [
        "# **10 Reshaping,stacking,squeezing , unsqueezing and permute**"
      ],
      "metadata": {
        "id": "cq-YW43-e_y-"
      }
    },
    {
      "cell_type": "markdown",
      "source": [
        "**10.1 torch.reshape(input,shape) ,**"
      ],
      "metadata": {
        "id": "p81450Awfx-1"
      }
    },
    {
      "cell_type": "markdown",
      "source": [
        "**Reshapes input to shape (if compatible), can also use torch.Tensor.reshape().**"
      ],
      "metadata": {
        "id": "hzX_Pkvsf8Ru"
      }
    },
    {
      "cell_type": "code",
      "source": [
        "x=torch.arange(1.,9.)\n",
        "x,x.shape"
      ],
      "metadata": {
        "colab": {
          "base_uri": "https://localhost:8080/"
        },
        "id": "eGlPKSzxd7wu",
        "outputId": "728baed2-d38f-4868-defa-089bee4c60ca"
      },
      "execution_count": 143,
      "outputs": [
        {
          "output_type": "execute_result",
          "data": {
            "text/plain": [
              "(tensor([1., 2., 3., 4., 5., 6., 7., 8.]), torch.Size([8]))"
            ]
          },
          "metadata": {},
          "execution_count": 143
        }
      ]
    },
    {
      "cell_type": "code",
      "source": [
        "x_reshaped=x.reshape(2,4)\n",
        "x_reshaped"
      ],
      "metadata": {
        "colab": {
          "base_uri": "https://localhost:8080/"
        },
        "id": "f_kpw7gJgzkK",
        "outputId": "a2e85b4d-7150-4c81-ea06-954a8c7e9f2e"
      },
      "execution_count": 144,
      "outputs": [
        {
          "output_type": "execute_result",
          "data": {
            "text/plain": [
              "tensor([[1., 2., 3., 4.],\n",
              "        [5., 6., 7., 8.]])"
            ]
          },
          "metadata": {},
          "execution_count": 144
        }
      ]
    },
    {
      "cell_type": "markdown",
      "source": [
        "**10.2 tensor.view(shape)**"
      ],
      "metadata": {
        "id": "d0osCZGdgA_U"
      }
    },
    {
      "cell_type": "markdown",
      "source": [
        "**Returns a view of the original tensor in a different shape but shares the same data as the original tensor.**"
      ],
      "metadata": {
        "id": "6Ueq11rXgIZo"
      }
    },
    {
      "cell_type": "code",
      "source": [
        "y=torch.arange(1.,9.)\n",
        "y,y.shape"
      ],
      "metadata": {
        "colab": {
          "base_uri": "https://localhost:8080/"
        },
        "id": "J2xYyLRBfpzl",
        "outputId": "02d005a0-03e1-4efc-ac63-a05f3812cc0e"
      },
      "execution_count": 145,
      "outputs": [
        {
          "output_type": "execute_result",
          "data": {
            "text/plain": [
              "(tensor([1., 2., 3., 4., 5., 6., 7., 8.]), torch.Size([8]))"
            ]
          },
          "metadata": {},
          "execution_count": 145
        }
      ]
    },
    {
      "cell_type": "code",
      "source": [
        "y_view=y.view(2,4)   # it is also use for reshaping\n",
        "y_view"
      ],
      "metadata": {
        "colab": {
          "base_uri": "https://localhost:8080/"
        },
        "id": "HfoBtfWWhbq6",
        "outputId": "0ee8fe51-f5c2-49b7-f6f9-8260ef6e4131"
      },
      "execution_count": 146,
      "outputs": [
        {
          "output_type": "execute_result",
          "data": {
            "text/plain": [
              "tensor([[1., 2., 3., 4.],\n",
              "        [5., 6., 7., 8.]])"
            ]
          },
          "metadata": {},
          "execution_count": 146
        }
      ]
    },
    {
      "cell_type": "code",
      "source": [
        "y_view[0,0] = 5   # changeing y_view also change y\n",
        "y,y_view\n"
      ],
      "metadata": {
        "colab": {
          "base_uri": "https://localhost:8080/"
        },
        "id": "ALhuvwtzhbjr",
        "outputId": "0b20136d-a1cf-493c-baa5-6b2ea265030a"
      },
      "execution_count": 147,
      "outputs": [
        {
          "output_type": "execute_result",
          "data": {
            "text/plain": [
              "(tensor([5., 2., 3., 4., 5., 6., 7., 8.]),\n",
              " tensor([[5., 2., 3., 4.],\n",
              "         [5., 6., 7., 8.]]))"
            ]
          },
          "metadata": {},
          "execution_count": 147
        }
      ]
    },
    {
      "cell_type": "markdown",
      "source": [
        "**10.3 torch.stack(tensors,dim=0)**"
      ],
      "metadata": {
        "id": "LmRk4HTBgKvk"
      }
    },
    {
      "cell_type": "markdown",
      "source": [
        "**Concatenates a sequence of tensors along a new dimension (dim), all tensors must be same size.**"
      ],
      "metadata": {
        "id": "1ZvwySNbgT5V"
      }
    },
    {
      "cell_type": "code",
      "source": [
        "tensor=torch.arange(1.,8.)\n",
        "tensor"
      ],
      "metadata": {
        "colab": {
          "base_uri": "https://localhost:8080/"
        },
        "id": "IRZYxg6AgRat",
        "outputId": "65b8b174-5593-47f7-b1ad-895572b93cdc"
      },
      "execution_count": 148,
      "outputs": [
        {
          "output_type": "execute_result",
          "data": {
            "text/plain": [
              "tensor([1., 2., 3., 4., 5., 6., 7.])"
            ]
          },
          "metadata": {},
          "execution_count": 148
        }
      ]
    },
    {
      "cell_type": "code",
      "source": [
        "tensor_stacked=torch.stack([tensor,tensor,tensor,tensor],dim=0) # it will stack tensors row wise\n",
        "tensor_stacked"
      ],
      "metadata": {
        "colab": {
          "base_uri": "https://localhost:8080/"
        },
        "id": "Y6O5w8xni2lC",
        "outputId": "18a60d49-0766-4e9c-db42-7ccb0e41b76b"
      },
      "execution_count": 149,
      "outputs": [
        {
          "output_type": "execute_result",
          "data": {
            "text/plain": [
              "tensor([[1., 2., 3., 4., 5., 6., 7.],\n",
              "        [1., 2., 3., 4., 5., 6., 7.],\n",
              "        [1., 2., 3., 4., 5., 6., 7.],\n",
              "        [1., 2., 3., 4., 5., 6., 7.]])"
            ]
          },
          "metadata": {},
          "execution_count": 149
        }
      ]
    },
    {
      "cell_type": "code",
      "source": [
        "tensor_stacked=torch.stack([tensor,tensor,tensor,tensor],dim=1) # it will stack tensors column wise\n",
        "tensor_stacked"
      ],
      "metadata": {
        "colab": {
          "base_uri": "https://localhost:8080/"
        },
        "id": "wMomAt1Pi2jE",
        "outputId": "f8a39d21-1ac3-4540-c830-7885bc7f1698"
      },
      "execution_count": 150,
      "outputs": [
        {
          "output_type": "execute_result",
          "data": {
            "text/plain": [
              "tensor([[1., 1., 1., 1.],\n",
              "        [2., 2., 2., 2.],\n",
              "        [3., 3., 3., 3.],\n",
              "        [4., 4., 4., 4.],\n",
              "        [5., 5., 5., 5.],\n",
              "        [6., 6., 6., 6.],\n",
              "        [7., 7., 7., 7.]])"
            ]
          },
          "metadata": {},
          "execution_count": 150
        }
      ]
    },
    {
      "cell_type": "markdown",
      "source": [
        "**10.4 torch.unsqueeze(input,dim)**"
      ],
      "metadata": {
        "id": "Xr-7H6M2gevE"
      }
    },
    {
      "cell_type": "markdown",
      "source": [
        "**Returns input with a dimension value of 1 added at dim.**"
      ],
      "metadata": {
        "id": "mLqVxXG9gneL"
      }
    },
    {
      "cell_type": "code",
      "source": [
        "x=torch.arange(1.,8.)\n",
        "x"
      ],
      "metadata": {
        "colab": {
          "base_uri": "https://localhost:8080/"
        },
        "id": "-83zlZs5jlMh",
        "outputId": "37161e73-c77d-414e-e689-3f0ef62538af"
      },
      "execution_count": 151,
      "outputs": [
        {
          "output_type": "execute_result",
          "data": {
            "text/plain": [
              "tensor([1., 2., 3., 4., 5., 6., 7.])"
            ]
          },
          "metadata": {},
          "execution_count": 151
        }
      ]
    },
    {
      "cell_type": "code",
      "source": [
        "x.shape,x.ndim"
      ],
      "metadata": {
        "colab": {
          "base_uri": "https://localhost:8080/"
        },
        "id": "7VdxTIsJjubH",
        "outputId": "fdf3f7d8-f5ce-4628-80da-982a6f5216ba"
      },
      "execution_count": 152,
      "outputs": [
        {
          "output_type": "execute_result",
          "data": {
            "text/plain": [
              "(torch.Size([7]), 1)"
            ]
          },
          "metadata": {},
          "execution_count": 152
        }
      ]
    },
    {
      "cell_type": "code",
      "source": [
        "x_unsqueezed=x.unsqueeze(dim=0)\n",
        "x_unsqueezed.shape ,x_unsqueezed.ndim"
      ],
      "metadata": {
        "colab": {
          "base_uri": "https://localhost:8080/"
        },
        "id": "i1WVJMZHjuWw",
        "outputId": "bf77c407-e844-418f-f298-385590e50526"
      },
      "execution_count": 153,
      "outputs": [
        {
          "output_type": "execute_result",
          "data": {
            "text/plain": [
              "(torch.Size([1, 7]), 2)"
            ]
          },
          "metadata": {},
          "execution_count": 153
        }
      ]
    },
    {
      "cell_type": "markdown",
      "source": [
        "**10.5 torch.squeeze(input)**"
      ],
      "metadata": {
        "id": "-xsCKWtGgWP8"
      }
    },
    {
      "cell_type": "markdown",
      "source": [
        "**Squeezes input to remove all the dimenions with value 1.**"
      ],
      "metadata": {
        "id": "WEtdPsa3gcsU"
      }
    },
    {
      "cell_type": "code",
      "source": [
        "x_unsqueezed.shape #to remove this one dim"
      ],
      "metadata": {
        "colab": {
          "base_uri": "https://localhost:8080/"
        },
        "id": "82kGC3RGglYj",
        "outputId": "a3449d5b-5d7e-42b6-a825-cc2909c1b554"
      },
      "execution_count": 154,
      "outputs": [
        {
          "output_type": "execute_result",
          "data": {
            "text/plain": [
              "torch.Size([1, 7])"
            ]
          },
          "metadata": {},
          "execution_count": 154
        }
      ]
    },
    {
      "cell_type": "code",
      "source": [
        "x_squeeze=x_unsqueezed.squeeze()\n",
        "x_squeeze.shape"
      ],
      "metadata": {
        "colab": {
          "base_uri": "https://localhost:8080/"
        },
        "id": "_GhuYZ7pkgrQ",
        "outputId": "d00287ae-29e9-4223-8989-3b8c9c003176"
      },
      "execution_count": 155,
      "outputs": [
        {
          "output_type": "execute_result",
          "data": {
            "text/plain": [
              "torch.Size([7])"
            ]
          },
          "metadata": {},
          "execution_count": 155
        }
      ]
    },
    {
      "cell_type": "markdown",
      "source": [
        "**10.6 torch.permute(input,dims)**"
      ],
      "metadata": {
        "id": "is69EdM8gp2d"
      }
    },
    {
      "cell_type": "markdown",
      "source": [
        "**Returns a view of the original input with its dimensions permuted (rearranged) to dims.**"
      ],
      "metadata": {
        "id": "dYkncFDbgxr8"
      }
    },
    {
      "cell_type": "code",
      "source": [
        "x=torch.rand(2,3,5)\n",
        "x"
      ],
      "metadata": {
        "colab": {
          "base_uri": "https://localhost:8080/"
        },
        "id": "9AgKJ0v0gueT",
        "outputId": "1bcb218e-a14b-475a-db67-e8b6c99756d9"
      },
      "execution_count": 156,
      "outputs": [
        {
          "output_type": "execute_result",
          "data": {
            "text/plain": [
              "tensor([[[0.2233, 0.4994, 0.3811, 0.4323, 0.0682],\n",
              "         [0.6909, 0.2253, 0.5695, 0.5620, 0.3782],\n",
              "         [0.1490, 0.2790, 0.1030, 0.1397, 0.8976]],\n",
              "\n",
              "        [[0.5786, 0.2771, 0.0451, 0.6770, 0.5981],\n",
              "         [0.6328, 0.2468, 0.9916, 0.4797, 0.8834],\n",
              "         [0.9409, 0.1480, 0.6775, 0.8809, 0.9437]]])"
            ]
          },
          "metadata": {},
          "execution_count": 156
        }
      ]
    },
    {
      "cell_type": "code",
      "source": [
        "x.shape"
      ],
      "metadata": {
        "colab": {
          "base_uri": "https://localhost:8080/"
        },
        "id": "uP0LqdiFlJKY",
        "outputId": "5ccda847-eee9-4df9-948a-389297bf6232"
      },
      "execution_count": 157,
      "outputs": [
        {
          "output_type": "execute_result",
          "data": {
            "text/plain": [
              "torch.Size([2, 3, 5])"
            ]
          },
          "metadata": {},
          "execution_count": 157
        }
      ]
    },
    {
      "cell_type": "code",
      "source": [
        "x_permuted=x.permute(2,1,0)\n",
        "x_permuted.shape"
      ],
      "metadata": {
        "colab": {
          "base_uri": "https://localhost:8080/"
        },
        "id": "hVyAEqPKlLI_",
        "outputId": "59d80d52-44a3-49c2-f56e-17f46a89ec15"
      },
      "execution_count": 158,
      "outputs": [
        {
          "output_type": "execute_result",
          "data": {
            "text/plain": [
              "torch.Size([5, 3, 2])"
            ]
          },
          "metadata": {},
          "execution_count": 158
        }
      ]
    },
    {
      "cell_type": "markdown",
      "source": [
        "**Because permuting returns a view (shares the same data as the original), the values in the permuted tensor will be the same as the original tensor and if you change the values in the view, it will change the values of the original**"
      ],
      "metadata": {
        "id": "_ThlCc83ljsw"
      }
    },
    {
      "cell_type": "markdown",
      "source": [
        "# **11 Indexing(selecting data from tensors)**"
      ],
      "metadata": {
        "id": "5cTW4M5Hln9P"
      }
    },
    {
      "cell_type": "markdown",
      "source": [
        "Sometimes you'll want to select specific data from tensors (for example, only the first column or second row).\n",
        "\n",
        "To do so, you can use indexing."
      ],
      "metadata": {
        "id": "33VWwIORl1M5"
      }
    },
    {
      "cell_type": "code",
      "source": [
        "#create a tensor\n",
        "x=torch.arange(1,10)\n",
        "x"
      ],
      "metadata": {
        "colab": {
          "base_uri": "https://localhost:8080/"
        },
        "id": "-2KTyFBclXAm",
        "outputId": "1b262a79-9631-4aee-a469-7e3819b9583e"
      },
      "execution_count": 159,
      "outputs": [
        {
          "output_type": "execute_result",
          "data": {
            "text/plain": [
              "tensor([1, 2, 3, 4, 5, 6, 7, 8, 9])"
            ]
          },
          "metadata": {},
          "execution_count": 159
        }
      ]
    },
    {
      "cell_type": "code",
      "source": [
        "x=x.reshape(1,3,3) #lets start indexing on this\n",
        "x"
      ],
      "metadata": {
        "colab": {
          "base_uri": "https://localhost:8080/"
        },
        "id": "GZPO46NVmDTd",
        "outputId": "dd1cad21-8b0c-4f0e-b43b-68a35a808afd"
      },
      "execution_count": 160,
      "outputs": [
        {
          "output_type": "execute_result",
          "data": {
            "text/plain": [
              "tensor([[[1, 2, 3],\n",
              "         [4, 5, 6],\n",
              "         [7, 8, 9]]])"
            ]
          },
          "metadata": {},
          "execution_count": 160
        }
      ]
    },
    {
      "cell_type": "code",
      "source": [
        "x.shape"
      ],
      "metadata": {
        "colab": {
          "base_uri": "https://localhost:8080/"
        },
        "id": "Ccu5BwE3mK1l",
        "outputId": "639a9e00-3751-4c69-c3b4-b03717398e9f"
      },
      "execution_count": 161,
      "outputs": [
        {
          "output_type": "execute_result",
          "data": {
            "text/plain": [
              "torch.Size([1, 3, 3])"
            ]
          },
          "metadata": {},
          "execution_count": 161
        }
      ]
    },
    {
      "cell_type": "code",
      "source": [
        "x[0] #to get first square bracket"
      ],
      "metadata": {
        "colab": {
          "base_uri": "https://localhost:8080/"
        },
        "id": "TBCmHA9NmYml",
        "outputId": "b8a0c571-da5b-455f-b8ef-dd674d53dd66"
      },
      "execution_count": 162,
      "outputs": [
        {
          "output_type": "execute_result",
          "data": {
            "text/plain": [
              "tensor([[1, 2, 3],\n",
              "        [4, 5, 6],\n",
              "        [7, 8, 9]])"
            ]
          },
          "metadata": {},
          "execution_count": 162
        }
      ]
    },
    {
      "cell_type": "code",
      "source": [
        "x[0,0] #2nd square bracket"
      ],
      "metadata": {
        "colab": {
          "base_uri": "https://localhost:8080/"
        },
        "id": "GtWKf3Gfmll9",
        "outputId": "91d60cb0-98ec-4e6c-abe5-5a6694434973"
      },
      "execution_count": 163,
      "outputs": [
        {
          "output_type": "execute_result",
          "data": {
            "text/plain": [
              "tensor([1, 2, 3])"
            ]
          },
          "metadata": {},
          "execution_count": 163
        }
      ]
    },
    {
      "cell_type": "code",
      "source": [
        "x[0,0,0] #3rd square bracket"
      ],
      "metadata": {
        "colab": {
          "base_uri": "https://localhost:8080/"
        },
        "id": "aWtTnvh2mpmF",
        "outputId": "f43d7d03-cd63-4893-e56d-3d1d798540b6"
      },
      "execution_count": 164,
      "outputs": [
        {
          "output_type": "execute_result",
          "data": {
            "text/plain": [
              "tensor(1)"
            ]
          },
          "metadata": {},
          "execution_count": 164
        }
      ]
    },
    {
      "cell_type": "code",
      "source": [
        "x #lets get the value 2 from this"
      ],
      "metadata": {
        "colab": {
          "base_uri": "https://localhost:8080/"
        },
        "id": "YEX8xBtwmzWm",
        "outputId": "4505dd06-16da-4080-af2a-7efb35429352"
      },
      "execution_count": 165,
      "outputs": [
        {
          "output_type": "execute_result",
          "data": {
            "text/plain": [
              "tensor([[[1, 2, 3],\n",
              "         [4, 5, 6],\n",
              "         [7, 8, 9]]])"
            ]
          },
          "metadata": {},
          "execution_count": 165
        }
      ]
    },
    {
      "cell_type": "code",
      "source": [
        "x[:,0, 1]"
      ],
      "metadata": {
        "colab": {
          "base_uri": "https://localhost:8080/"
        },
        "id": "cj6yyQg8m93V",
        "outputId": "0cd78d34-2aec-4b32-d3dd-0f5a3a125716"
      },
      "execution_count": 166,
      "outputs": [
        {
          "output_type": "execute_result",
          "data": {
            "text/plain": [
              "tensor([2])"
            ]
          },
          "metadata": {},
          "execution_count": 166
        }
      ]
    },
    {
      "cell_type": "code",
      "source": [
        "x #now let get 6"
      ],
      "metadata": {
        "colab": {
          "base_uri": "https://localhost:8080/"
        },
        "id": "fhZklqOynOZt",
        "outputId": "b1e2742c-23b5-4f44-880f-94f97d0a0535"
      },
      "execution_count": 167,
      "outputs": [
        {
          "output_type": "execute_result",
          "data": {
            "text/plain": [
              "tensor([[[1, 2, 3],\n",
              "         [4, 5, 6],\n",
              "         [7, 8, 9]]])"
            ]
          },
          "metadata": {},
          "execution_count": 167
        }
      ]
    },
    {
      "cell_type": "code",
      "source": [
        "x[:,1,2]"
      ],
      "metadata": {
        "colab": {
          "base_uri": "https://localhost:8080/"
        },
        "id": "b4ZA4hXMnQY8",
        "outputId": "b809e9b0-37df-4478-fe4a-b9daeb82c759"
      },
      "execution_count": 168,
      "outputs": [
        {
          "output_type": "execute_result",
          "data": {
            "text/plain": [
              "tensor([6])"
            ]
          },
          "metadata": {},
          "execution_count": 168
        }
      ]
    },
    {
      "cell_type": "markdown",
      "source": [
        "**just play with it**"
      ],
      "metadata": {
        "id": "ALXKGBGln0hO"
      }
    },
    {
      "cell_type": "markdown",
      "source": [
        "# **12.Pytorch tensors and Numpy**"
      ],
      "metadata": {
        "id": "o0dY2er6n7Es"
      }
    },
    {
      "cell_type": "markdown",
      "source": [
        "Since NumPy is a popular Python numerical computing library, PyTorch has functionality to interact with it nicely."
      ],
      "metadata": {
        "id": "oGvhX6EWoEUN"
      }
    },
    {
      "cell_type": "markdown",
      "source": [
        "The two main methods you'll want to use for NumPy to PyTorch (and back again) are:\n",
        "\n",
        "* **torch.from_numpy(ndarray) - NumPy array -> PyTorch tensor.**\n",
        "* **torch.Tensor.numpy() - PyTorch tensor -> NumPy array.**"
      ],
      "metadata": {
        "id": "CmCbx3WMoH2M"
      }
    },
    {
      "cell_type": "code",
      "source": [
        "import numpy as np #lets first import numpy"
      ],
      "metadata": {
        "id": "oyieTJ8bnbj8"
      },
      "execution_count": 169,
      "outputs": []
    },
    {
      "cell_type": "code",
      "source": [
        "array=np.arange(1.0,8.0)\n",
        "array"
      ],
      "metadata": {
        "colab": {
          "base_uri": "https://localhost:8080/"
        },
        "id": "_dAl3ZRroXK8",
        "outputId": "c89d1ee3-b701-434a-9170-85a2a69f18ef"
      },
      "execution_count": 170,
      "outputs": [
        {
          "output_type": "execute_result",
          "data": {
            "text/plain": [
              "array([1., 2., 3., 4., 5., 6., 7.])"
            ]
          },
          "metadata": {},
          "execution_count": 170
        }
      ]
    },
    {
      "cell_type": "markdown",
      "source": [
        "**To convert this numpy array to tensor**"
      ],
      "metadata": {
        "id": "UoPz2-yGomzU"
      }
    },
    {
      "cell_type": "code",
      "source": [
        "tensor=torch.from_numpy(array)\n",
        "tensor"
      ],
      "metadata": {
        "colab": {
          "base_uri": "https://localhost:8080/"
        },
        "id": "fJD8mQoEog-D",
        "outputId": "2e753f45-b6ff-491b-ef11-0d2c333ddf69"
      },
      "execution_count": 171,
      "outputs": [
        {
          "output_type": "execute_result",
          "data": {
            "text/plain": [
              "tensor([1., 2., 3., 4., 5., 6., 7.], dtype=torch.float64)"
            ]
          },
          "metadata": {},
          "execution_count": 171
        }
      ]
    },
    {
      "cell_type": "markdown",
      "source": [
        "**To convert tensor in numpy**"
      ],
      "metadata": {
        "id": "yqxZTI2JpCWr"
      }
    },
    {
      "cell_type": "code",
      "source": [
        "numpy_array=tensor.numpy()\n",
        "numpy_array"
      ],
      "metadata": {
        "colab": {
          "base_uri": "https://localhost:8080/"
        },
        "id": "gJ3jDDPkozib",
        "outputId": "65f9a677-dae4-459a-ee22-c7732c517d1e"
      },
      "execution_count": 172,
      "outputs": [
        {
          "output_type": "execute_result",
          "data": {
            "text/plain": [
              "array([1., 2., 3., 4., 5., 6., 7.])"
            ]
          },
          "metadata": {},
          "execution_count": 172
        }
      ]
    },
    {
      "cell_type": "code",
      "source": [
        "array,tensor,numpy_array"
      ],
      "metadata": {
        "colab": {
          "base_uri": "https://localhost:8080/"
        },
        "id": "BuKWWKSKpSIC",
        "outputId": "e603127f-f25c-4f7d-f73f-c6de368eb399"
      },
      "execution_count": 173,
      "outputs": [
        {
          "output_type": "execute_result",
          "data": {
            "text/plain": [
              "(array([1., 2., 3., 4., 5., 6., 7.]),\n",
              " tensor([1., 2., 3., 4., 5., 6., 7.], dtype=torch.float64),\n",
              " array([1., 2., 3., 4., 5., 6., 7.]))"
            ]
          },
          "metadata": {},
          "execution_count": 173
        }
      ]
    },
    {
      "cell_type": "markdown",
      "source": [
        "# **13.Reproducibility (trying to take the random out of random )**"
      ],
      "metadata": {
        "id": "Irj5uCmJpg9C"
      }
    },
    {
      "cell_type": "markdown",
      "source": [
        "**you will not understand it by ust words lets do practically**"
      ],
      "metadata": {
        "id": "gZBXghHzqb-p"
      }
    },
    {
      "cell_type": "code",
      "source": [
        "random_tensor_A=torch.rand(3,4)\n",
        "random_tensor_A"
      ],
      "metadata": {
        "colab": {
          "base_uri": "https://localhost:8080/"
        },
        "id": "97E1aVgWqhvB",
        "outputId": "4b231d47-3673-49e2-c5c2-5bad2a3cf350"
      },
      "execution_count": 174,
      "outputs": [
        {
          "output_type": "execute_result",
          "data": {
            "text/plain": [
              "tensor([[0.4633, 0.5478, 0.0562, 0.6754],\n",
              "        [0.4015, 0.9313, 0.0892, 0.7141],\n",
              "        [0.4533, 0.4670, 0.4906, 0.5199]])"
            ]
          },
          "metadata": {},
          "execution_count": 174
        }
      ]
    },
    {
      "cell_type": "code",
      "source": [
        "random_tensor_B=torch.rand(3,4)\n",
        "random_tensor_B"
      ],
      "metadata": {
        "colab": {
          "base_uri": "https://localhost:8080/"
        },
        "id": "RlNptE-dqhri",
        "outputId": "e1abe14f-707c-4a7f-afeb-5ae7d5afd7d3"
      },
      "execution_count": 175,
      "outputs": [
        {
          "output_type": "execute_result",
          "data": {
            "text/plain": [
              "tensor([[0.5970, 0.1559, 0.6905, 0.2066],\n",
              "        [0.6113, 0.4017, 0.9580, 0.1626],\n",
              "        [0.3569, 0.3483, 0.9773, 0.8114]])"
            ]
          },
          "metadata": {},
          "execution_count": 175
        }
      ]
    },
    {
      "cell_type": "markdown",
      "source": [
        "**as you cann see both are different , even they both are same size**"
      ],
      "metadata": {
        "id": "2rA34bieq225"
      }
    },
    {
      "cell_type": "markdown",
      "source": [
        "you create an algorithm capable of achieving X performance.\n",
        "\n",
        "And then your friend tries it out to verify you're not crazy.\n",
        "\n",
        "How could they do such a thing?\n",
        "\n",
        "That's where reproducibility comes in.\n",
        "\n",
        "In other words, can you get the same (or very similar) results on your computer running the same code as I get on mine?"
      ],
      "metadata": {
        "id": "FuqIT2_8qQo2"
      }
    },
    {
      "cell_type": "markdown",
      "source": [
        "**To fix this problem , seed comes into game**"
      ],
      "metadata": {
        "id": "kZWrb_q6rA2Z"
      }
    },
    {
      "cell_type": "code",
      "source": [
        "random_seed=42\n",
        "torch.manual_seed(random_seed)\n",
        "random_tensor_c=torch.rand(3,4)\n",
        "random_tensor_c\n"
      ],
      "metadata": {
        "colab": {
          "base_uri": "https://localhost:8080/"
        },
        "id": "i5Vui2XfpZ_q",
        "outputId": "6ba985e7-9fdf-4f0c-f04e-54ccb75852c5"
      },
      "execution_count": 176,
      "outputs": [
        {
          "output_type": "execute_result",
          "data": {
            "text/plain": [
              "tensor([[0.8823, 0.9150, 0.3829, 0.9593],\n",
              "        [0.3904, 0.6009, 0.2566, 0.7936],\n",
              "        [0.9408, 0.1332, 0.9346, 0.5936]])"
            ]
          },
          "metadata": {},
          "execution_count": 176
        }
      ]
    },
    {
      "cell_type": "code",
      "source": [
        "torch.manual_seed(42)\n",
        "random_tensor_d=torch.rand(3,4)\n",
        "random_tensor_d"
      ],
      "metadata": {
        "colab": {
          "base_uri": "https://localhost:8080/"
        },
        "id": "umXXVY5-rfbo",
        "outputId": "5159565f-2773-432a-a723-83f565c2f17d"
      },
      "execution_count": 177,
      "outputs": [
        {
          "output_type": "execute_result",
          "data": {
            "text/plain": [
              "tensor([[0.8823, 0.9150, 0.3829, 0.9593],\n",
              "        [0.3904, 0.6009, 0.2566, 0.7936],\n",
              "        [0.9408, 0.1332, 0.9346, 0.5936]])"
            ]
          },
          "metadata": {},
          "execution_count": 177
        }
      ]
    },
    {
      "cell_type": "markdown",
      "source": [
        "**as you can see both are same**"
      ],
      "metadata": {
        "id": "sKMW2CnRrr3C"
      }
    },
    {
      "cell_type": "markdown",
      "source": [
        "# **14 Running tensors on GPUs(AND MAKING FASTER COMPUTIONS)**"
      ],
      "metadata": {
        "id": "j9lnF6S4rybp"
      }
    },
    {
      "cell_type": "markdown",
      "source": [
        "Deep learning algorithms require a lot of numerical operations.\n",
        "\n",
        "And by default these operations are often done on a CPU (computer processing unit).\n",
        "\n",
        "However, there's another common piece of hardware called a GPU (graphics processing unit), which is often much faster at performing the specific types of operations neural networks need (matrix multiplications) than CPUs.\n",
        "\n",
        "Your computer might have one.\n",
        "\n",
        "If so, you should look to use it whenever you can to train neural networks because chances are it'll speed up the training time dramatically.\n",
        "\n",
        "There are a few ways to first get access to a GPU and secondly get PyTorch to use the GPU."
      ],
      "metadata": {
        "id": "pmK_-dFbsaYH"
      }
    },
    {
      "cell_type": "markdown",
      "source": [
        "**14.1.Getting a GPU**"
      ],
      "metadata": {
        "id": "054W3pxYsrzP"
      }
    },
    {
      "cell_type": "markdown",
      "source": [
        "1. **ON google colab**\n",
        "2. **on your local pc , go on pytorch ,et started and select you gpu and install it**"
      ],
      "metadata": {
        "id": "EcutUCQKsyKo"
      }
    },
    {
      "cell_type": "markdown",
      "source": [
        "**14.2.Getting pytorch to run Gpu**"
      ],
      "metadata": {
        "id": "qhk7QHXStOVm"
      }
    },
    {
      "cell_type": "markdown",
      "source": [
        "Once you've got a GPU ready to access, the next step is getting PyTorch to use for storing data (tensors) and computing on data (performing operations on tensors).\n",
        "\n",
        "To do so, you can use the torch.cuda package."
      ],
      "metadata": {
        "id": "2tt49b7ntf9s"
      }
    },
    {
      "cell_type": "markdown",
      "source": [
        "**You can test if PyTorch has access to a GPU using torch.cuda.is_available().**"
      ],
      "metadata": {
        "id": "StMvhRmftiIc"
      }
    },
    {
      "cell_type": "code",
      "source": [
        "#check for GPU\n",
        "torch.cuda.is_available()"
      ],
      "metadata": {
        "colab": {
          "base_uri": "https://localhost:8080/"
        },
        "id": "cs6Uv2OIrqQo",
        "outputId": "94cc3b36-3279-4358-ee0f-d68960175002"
      },
      "execution_count": 178,
      "outputs": [
        {
          "output_type": "execute_result",
          "data": {
            "text/plain": [
              "False"
            ]
          },
          "metadata": {},
          "execution_count": 178
        }
      ]
    },
    {
      "cell_type": "markdown",
      "source": [
        "**let's say you wanted to setup your code so it ran on CPU or the GPU if it was available**"
      ],
      "metadata": {
        "id": "2ojtQ8A9t1Kh"
      }
    },
    {
      "cell_type": "code",
      "source": [
        "# set device type (agnostic code)\n",
        "device = \"cuda\" if torch.cuda.is_available() else \"cpu\"\n",
        "device"
      ],
      "metadata": {
        "colab": {
          "base_uri": "https://localhost:8080/",
          "height": 36
        },
        "id": "xl-k-9jXtoQO",
        "outputId": "5a7cae13-7a60-4612-ff59-64d2a5f373ad"
      },
      "execution_count": 179,
      "outputs": [
        {
          "output_type": "execute_result",
          "data": {
            "text/plain": [
              "'cpu'"
            ],
            "application/vnd.google.colaboratory.intrinsic+json": {
              "type": "string"
            }
          },
          "metadata": {},
          "execution_count": 179
        }
      ]
    },
    {
      "cell_type": "markdown",
      "source": [
        "If the above output \"cuda\" it means we can set all of our PyTorch code to use the available CUDA device (a GPU) and if it output \"cpu\", our PyTorch code will stick with the CPU."
      ],
      "metadata": {
        "id": "mc25D5weuO4t"
      }
    },
    {
      "cell_type": "code",
      "source": [
        "# count number of devices\n",
        "torch.cuda.device_count()"
      ],
      "metadata": {
        "colab": {
          "base_uri": "https://localhost:8080/"
        },
        "id": "8tYqa1tBuEft",
        "outputId": "fe022454-62ac-4ef2-b4ca-3ca0eeb7b4c7"
      },
      "execution_count": 180,
      "outputs": [
        {
          "output_type": "execute_result",
          "data": {
            "text/plain": [
              "0"
            ]
          },
          "metadata": {},
          "execution_count": 180
        }
      ]
    },
    {
      "cell_type": "markdown",
      "source": [
        "**14.3 Putting tensors(and models) on GPU**"
      ],
      "metadata": {
        "id": "IN8QmXoquaOE"
      }
    },
    {
      "cell_type": "markdown",
      "source": [
        "**You can put tensors (and models, we'll see this later) on a specific device by calling to(device) on them. Where device is the target device you'd like the tensor (or model) to go to.**"
      ],
      "metadata": {
        "id": "ZILOSCZXuzCP"
      }
    },
    {
      "cell_type": "code",
      "source": [
        "#create tensor (default on cpu)\n",
        "tensor=torch.tensor([1,2,3])\n",
        "tensor"
      ],
      "metadata": {
        "colab": {
          "base_uri": "https://localhost:8080/"
        },
        "id": "kVmsYoCVuYoV",
        "outputId": "3ad62b13-ac6c-46f8-c04d-c64be3ebd16e"
      },
      "execution_count": 181,
      "outputs": [
        {
          "output_type": "execute_result",
          "data": {
            "text/plain": [
              "tensor([1, 2, 3])"
            ]
          },
          "metadata": {},
          "execution_count": 181
        }
      ]
    },
    {
      "cell_type": "code",
      "source": [
        "print(tensor,tensor.device) # tesnsor not on GPU"
      ],
      "metadata": {
        "colab": {
          "base_uri": "https://localhost:8080/"
        },
        "id": "Bqo1GOy9vBp9",
        "outputId": "0e7d62a4-f689-4292-d6ea-36a50e8ff847"
      },
      "execution_count": 182,
      "outputs": [
        {
          "output_type": "stream",
          "name": "stdout",
          "text": [
            "tensor([1, 2, 3]) cpu\n"
          ]
        }
      ]
    },
    {
      "cell_type": "code",
      "source": [
        "#move_tensor to gpu (if availabel)\n",
        "tensor_on_gpu=tensor.to(device)\n",
        "tensor_on_gpu,tensor_on_gpu.device"
      ],
      "metadata": {
        "colab": {
          "base_uri": "https://localhost:8080/"
        },
        "id": "jcgSnfsSvKw9",
        "outputId": "261fe82b-eab3-4e27-d5a6-380d1d8eeaac"
      },
      "execution_count": 183,
      "outputs": [
        {
          "output_type": "execute_result",
          "data": {
            "text/plain": [
              "(tensor([1, 2, 3]), device(type='cpu'))"
            ]
          },
          "metadata": {},
          "execution_count": 183
        }
      ]
    },
    {
      "cell_type": "markdown",
      "source": [
        "**14.4 Moving tensors back on the cpu**"
      ],
      "metadata": {
        "id": "zW-WnFKXvnDE"
      }
    },
    {
      "cell_type": "markdown",
      "source": [
        "**just use yensor.cpu()**"
      ],
      "metadata": {
        "id": "vO4a8vRZvzJk"
      }
    },
    {
      "cell_type": "code",
      "source": [
        "tensor_back_on_cpu=tensor_on_gpu.cpu()\n",
        "tensor_back_on_cpu ,tensor_back_on_cpu.device"
      ],
      "metadata": {
        "colab": {
          "base_uri": "https://localhost:8080/"
        },
        "id": "2ikXVl4hvWmc",
        "outputId": "7d5d77ce-38e7-4e37-ee7f-31ab33b654b9"
      },
      "execution_count": 184,
      "outputs": [
        {
          "output_type": "execute_result",
          "data": {
            "text/plain": [
              "(tensor([1, 2, 3]), device(type='cpu'))"
            ]
          },
          "metadata": {},
          "execution_count": 184
        }
      ]
    },
    {
      "cell_type": "code",
      "source": [],
      "metadata": {
        "id": "lQju5rFpwBic"
      },
      "execution_count": 184,
      "outputs": []
    }
  ]
}